{
 "cells": [
  {
   "cell_type": "markdown",
   "metadata": {},
   "source": [
    "# 1065 : 한수\n",
    "\n",
    "- <img src=\"https://d2gd6pc034wcta.cloudfront.net/tier/7.svg\" width=\"15\" height=\"15\"/> 실버 4\n",
    "\n",
    "| 시간제한 | 메모리제한 | 정답비율 |\n",
    "| :------: | :--------: | :------: |\n",
    "|   2초    |   128MB    | 54.286% |"
   ]
  },
  {
   "cell_type": "markdown",
   "metadata": {},
   "source": [
    "## 문제\n",
    "\n",
    "어떤 양의 정수 X의 각 자리가 등차수열을 이룬다면, 그 수를 한수라고 한다. 등차수열은 연속된 두 개의 수의 차이가 일정한 수열을 말한다. N이 주어졌을 때, 1보다 크거나 같고, N보다 작거나 같은 한수의 개수를 출력하는 프로그램을 작성하시오.\n",
    "\n",
    "\n",
    "## input\n",
    "\n",
    "0 < n <= 1000\n",
    "\n",
    "## output\n",
    "\n",
    "1보다 크거나 같고, n보다 작거나 같은 한수의 개수를 출력\n",
    "\n",
    "## think\n",
    "\n",
    "딱 보아하니 n 이하의 작업물들을 기록하면서 가야할 [dp](dp)문제로 보인다. 점화식을 써보자... 고 했으나 풀고 보니, dp로 푸는 문제 같지만 사실상 사람들은 brute force로 완전탐색하면서 했던데 그게 훨씬 빠른 것 같다. 굳이 dp를 사용해야할 필요는 없는 것으로 보인다."
   ]
  },
  {
   "cell_type": "markdown",
   "metadata": {},
   "source": [
    "## python "
   ]
  },
  {
   "cell_type": "code",
   "execution_count": 7,
   "metadata": {},
   "outputs": [],
   "source": [
    "import sys, os\n",
    "\n",
    "problem_num = \"1065\"\n",
    "\n",
    "path = os.getcwd() + f\"\\\\txt\\\\{problem_num}\" + \".txt\"\n",
    "sys.stdin = open(path, \"r\")\n",
    "input = sys.stdin.readline"
   ]
  },
  {
   "cell_type": "code",
   "execution_count": 8,
   "metadata": {},
   "outputs": [],
   "source": [
    "n = int(input())"
   ]
  },
  {
   "cell_type": "code",
   "execution_count": 13,
   "metadata": {},
   "outputs": [],
   "source": [
    "from typing import List\n",
    "def spliting(x:int) -> List[int]:\n",
    "    '''\n",
    "    make a x:int to list of elements\n",
    "    '''\n",
    "    return [int(i) for i in str(x)]\n",
    "\n",
    "class Hansu:\n",
    "    def __init__(self,n):\n",
    "        self.dp = [i for i in range(1,n+1)]\n",
    "        \n",
    "    def arithmetic_sequence(self):\n",
    "        bool_list = []\n",
    "        for i in self.dp:\n",
    "            if (i < 100) or (spliting(i)[2] - spliting(i)[1] == spliting(i)[1] - spliting(i)[0]):\n",
    "                bool_list.append(True)\n",
    "            else:\n",
    "                bool_list.append(False)\n",
    "                    \n",
    "        return bool_list.count(True)\n",
    "            "
   ]
  },
  {
   "cell_type": "code",
   "execution_count": 14,
   "metadata": {},
   "outputs": [
    {
     "name": "stdout",
     "output_type": "stream",
     "text": [
      "144\n"
     ]
    }
   ],
   "source": [
    "print(Hansu(n).arithmetic_sequence())"
   ]
  },
  {
   "cell_type": "code",
   "execution_count": null,
   "metadata": {},
   "outputs": [],
   "source": []
  }
 ],
 "metadata": {
  "kernelspec": {
   "display_name": ".venv",
   "language": "python",
   "name": "python3"
  },
  "language_info": {
   "codemirror_mode": {
    "name": "ipython",
    "version": 3
   },
   "file_extension": ".py",
   "mimetype": "text/x-python",
   "name": "python",
   "nbconvert_exporter": "python",
   "pygments_lexer": "ipython3",
   "version": "3.11.4"
  }
 },
 "nbformat": 4,
 "nbformat_minor": 2
}
