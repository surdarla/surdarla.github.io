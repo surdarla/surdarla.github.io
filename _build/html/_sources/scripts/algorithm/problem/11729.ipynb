{
 "cells": [
  {
   "cell_type": "markdown",
   "metadata": {},
   "source": [
    "# 11729 : 하노이 탑 이동순서\n",
    "\n",
    "```{article-info}\n",
    ":avatar: /images/logos/my_favi.png\n",
    ":avatar-alt: supposed to be surdarla logo\n",
    ":avatar-link: https://surdarla.github.io\n",
    ":avatar-outline: muted\n",
    ":author: Surdarla\n",
    ":date: Dec 01 Fri 09:38, 2023\n",
    ":read-time: \"{sub-ref}`wordcount-minutes` min read\"\n",
    ":class-container: sd-p-2 sd-outline-muted sd-rounded-1\n",
    "```\n",
    "\n",
    "- <img src=\"https://d2gd6pc034wcta.cloudfront.net/tier/10.svg\" width=\"15\" height=\"15\"/> 골드 5\n",
    "\n",
    "| 시간제한 | 메모리제한 |  정답비율   |\n",
    "|:----:|:-----:|:-------:|\n",
    "|  1초  | 256MB | 50.536% |\n",
    "\n",
    "## 문제\n",
    "\n",
    "세 개의 장대가 있고 첫 번째 장대에는 반경이 서로 다른 n개의 원판이 쌓여 있다. 각 원판은 반경이 큰 순서대로 쌓여있다. 이제 수도승들이 다음 규칙에 따라 첫 번째 장대에서 세 번째 장대로 옮기려 한다.\n",
    "\n",
    "한 번에 한 개의 원판만을 다른 탑으로 옮길 수 있다.\n",
    "쌓아 놓은 원판은 항상 위의 것이 아래의 것보다 작아야 한다.\n",
    "이 작업을 수행하는데 필요한 이동 순서를 출력하는 프로그램을 작성하라. 단, 이동 횟수는 최소가 되어야 한다.\n",
    "\n",
    "```{figure} https://onlinejudgeimages.s3-ap-northeast-1.amazonaws.com/problem/11729/hanoi.png\n",
    "---\n",
    "align : center\n",
    "width : 70 %\n",
    "alt : hanoi fig\n",
    "---\n",
    "그림은 원판이 5개인 경우의 예시이다.\n",
    "```\n",
    "\n",
    "## input\n",
    "\n",
    "첫째 줄에 첫 번째 장대에 쌓인 원판의 개수 N (1 ≤ N ≤ 20)이 주어진다.\n",
    "\n",
    "## output\n",
    "\n",
    "첫째 줄에 옮긴 횟수 K를 출력한다.\n",
    "\n",
    "두 번째 줄부터 수행 과정을 출력한다. 두 번째 줄부터 K개의 줄에 걸쳐 두 정수 A B를 빈칸을 사이에 두고 출력하는데, 이는 A번째 탑의 가장 위에 있는 원판을 B번째 탑의 가장 위로 옮긴다는 뜻이다.\n",
    "\n",
    "## think\n",
    "\n",
    "하노이 탑은 기본적으로 백트레킹 문제이다. 여기서 이동 순서에 대해서 출력을 해야한다. 그런데 이동횟수가 최소가 되어야한다는 조건이 달려있다."
   ]
  },
  {
   "cell_type": "markdown",
   "metadata": {},
   "source": [
    "## python "
   ]
  },
  {
   "cell_type": "code",
   "execution_count": 20,
   "metadata": {},
   "outputs": [],
   "source": [
    "import sys, os\n",
    "\n",
    "problem_num = \"11729\"\n",
    "\n",
    "path = os.getcwd() + f\"\\\\txt\\\\{problem_num}\" + \".txt\"\n",
    "sys.stdin = open(path, \"r\")\n",
    "input = sys.stdin.readline"
   ]
  },
  {
   "cell_type": "code",
   "execution_count": 21,
   "metadata": {},
   "outputs": [],
   "source": [
    "n = int(input())"
   ]
  },
  {
   "cell_type": "code",
   "execution_count": 22,
   "metadata": {},
   "outputs": [],
   "source": [
    "result = []\n",
    "\n",
    "\n",
    "def move(start, to):\n",
    "    return [start, to]\n",
    "\n",
    "\n",
    "def hanoi(n, start, to, via):\n",
    "    if n == 1:\n",
    "        result.append(move(start, to))\n",
    "    else:\n",
    "        hanoi(n - 1, start, via, to)\n",
    "        result.append(move(start, to))\n",
    "        hanoi(n - 1, via, to, start)\n",
    "    return result"
   ]
  },
  {
   "cell_type": "code",
   "execution_count": 23,
   "metadata": {},
   "outputs": [
    {
     "name": "stdout",
     "output_type": "stream",
     "text": [
      "7\n",
      "1 3\n",
      "1 2\n",
      "3 2\n",
      "1 3\n",
      "2 1\n",
      "2 3\n",
      "1 3\n"
     ]
    }
   ],
   "source": [
    "answer = hanoi(n, 1, 3, 2)\n",
    "print(len(answer))\n",
    "for i in answer:\n",
    "    print(*i)"
   ]
  },
  {
   "cell_type": "markdown",
   "metadata": {},
   "source": [
    "## javascript"
   ]
  },
  {
   "cell_type": "markdown",
   "metadata": {},
   "source": [
    "```{code-block} javascript\n",
    ":caption: nodejs code\n",
    ":lineno-start: 1\n",
    "\n",
    "const problem_num = \"11729\";\n",
    "const path = `${__dirname}\\\\txt\\\\${problem_num}.txt`;\n",
    "// const path = \"/dev/stdin\";\n",
    "\n",
    "const input = require(\"fs\").readFileSync(path, 'utf8').toString().trim().split('\\n');\n",
    "let currentLine = 0;\n",
    "\n",
    "function readLine() {\n",
    "    return input[currentLine++].split(' ').map(Number);\n",
    "}\n",
    "\n",
    "const n = parseInt(readLine()[0]);\n",
    "let moves = [];\n",
    "\n",
    "function hanoi(n, start, to, via) {\n",
    "    if (n == 1) {\n",
    "        moves.push(`${start} ${to}`);\n",
    "    } else {\n",
    "        hanoi(n - 1, start, via, to);\n",
    "        moves.push(`${start} ${to}`);\n",
    "        hanoi(n - 1, via, to, start)\n",
    "    }\n",
    "    return moves\n",
    "}\n",
    "\n",
    "let answer = hanoi(n, 1, 3, 2);\n",
    "console.log(moves.length);\n",
    "console.log(moves.join('\\n'));\n",
    "```\n",
    "\n",
    "- 숫자 하나만을 받으므로 [0] 인덱스 접근\n",
    "- 짜피 print해야함으로 `, $ 를 이용해서 변수 받아서 string해주기"
   ]
  },
  {
   "cell_type": "markdown",
   "metadata": {},
   "source": [
    "## java\n",
    "\n",
    "```{code-block} java\n",
    ":caption: java block\n",
    ":emphasize-lines: 11\n",
    ":lineno-start: 1\n",
    "\n",
    "import java.io.*;\n",
    "import java.util.*;\n",
    "\n",
    "public class Main {\n",
    "    public static void main(String[] args) throws IOException {\n",
    "        String problemNumber = \"11729\";\n",
    "        String path = System.getProperty(\"user.dir\") + \"\\\\scripts\\\\algorithm\\\\problem\\\\txt\\\\\" + problemNumber + \".txt\";\n",
    "        BufferedReader br = new BufferedReader(new FileReader(path));\n",
    "        BufferedWriter bw = new BufferedWriter(new OutputStreamWriter(System.out));\n",
    "        // BufferedReader br = new BufferedReader(new InputStreamReader(System.in));\n",
    "        // StringTokenizer st = new StringTokenizer(br.readLine());\n",
    "\n",
    "        int n = Integer.parseInt(br.readLine());\n",
    "        br.close();\n",
    "        StringBuilder sb = new StringBuilder();\n",
    "        int moveCount = hanoi(n, 1, 2, 3, sb);\n",
    "\n",
    "        bw.write(moveCount + \"\\n\");\n",
    "        bw.write(sb.toString());\n",
    "        bw.flush();\n",
    "        bw.close();\n",
    "    }\n",
    "\n",
    "    public static int hanoi(int n, int start, int via, int to, StringBuilder sb) {\n",
    "        if (n == 1) {\n",
    "            sb.append(start).append(\" \").append(to).append(\"\\n\");\n",
    "            return 1;\n",
    "        } else {\n",
    "            int count1 = hanoi(n - 1, start, to, via, sb);\n",
    "            sb.append(start).append(\" \").append(to).append(\"\\n\");\n",
    "            int count2 = hanoi(n - 1, via, start, to, sb);\n",
    "            return count1 + count2 + 1;\n",
    "        }\n",
    "    }\n",
    "}\n",
    "```\n",
    "\n",
    "- 맨처음엔 그냥 하니깐 시간초과가 나옴\n",
    "- `System.out`을 사용하면 엄청 느려서 모아놨다가 한번에 출력하는 `StringBuilder`에 가져다 붙여놨다가 한번에 출력하는 방식으로 해야함.\n",
    "- 굳이 이렇게까지 불편하게 해야하나 싶음. python은 신이다.\n",
    "- 하지만 메모리면에서는 java가 48412kb로 javascript(153640kb), python(123336kb)인 것에 비해서 굉장히 큰 이점이 존재하는 것은 맞는 것으로 보인다.\n",
    "- string에는 append, list에는 add...    정말루다가 너무 헤깔린다."
   ]
  },
  {
   "cell_type": "markdown",
   "metadata": {},
   "source": [
    "```{raw} html\n",
    "<script\n",
    "   type=\"text/javascript\"\n",
    "   src=\"https://utteranc.es/client.js\"\n",
    "   async=\"async\"\n",
    "   repo=\"surdarla/surdarla.github.io\"\n",
    "   issue-term=\"pathname\"\n",
    "   theme=\"github-light\"\n",
    "   label=\"💬 comment\"\n",
    "   crossorigin=\"anonymous\"\n",
    "/>\n",
    "```"
   ]
  }
 ],
 "metadata": {
  "kernelspec": {
   "display_name": ".venv",
   "language": "python",
   "name": "python3"
  },
  "language_info": {
   "codemirror_mode": {
    "name": "ipython",
    "version": 3
   },
   "file_extension": ".py",
   "mimetype": "text/x-python",
   "name": "python",
   "nbconvert_exporter": "python",
   "pygments_lexer": "ipython3",
   "version": "3.11.4"
  }
 },
 "nbformat": 4,
 "nbformat_minor": 2
}
