{
 "cells": [
  {
   "cell_type": "markdown",
   "metadata": {},
   "source": [
    "# 1021 : 회전하는 큐\n",
    "\n",
    "```{article-info}\n",
    ":avatar: /images/logos/my_favi.png\n",
    ":avatar-alt: supposed to be surdarla logo\n",
    ":avatar-link: https://surdarla.github.io\n",
    ":avatar-outline: muted\n",
    ":author: Surdarla\n",
    ":date: Nov 29 Wed 15:19, 2023\n",
    ":read-time: \"{sub-ref}`wordcount-minutes` min read\"\n",
    ":class-container: sd-p-2 sd-outline-muted sd-rounded-1\n",
    "```\n",
    "- <img src=\"https://d2gd6pc034wcta.cloudfront.net/tier/7.svg\" width=\"15\" height=\"15\"/> 실버 3\n",
    "\n",
    "| 시간제한 | 메모리제한 |  정답비율   |\n",
    "|:----:|:-----:|:-------:|\n",
    "|  2초  | 128MB | 61.173% |\n",
    "\n",
    "## 문제\n",
    "\n",
    "지민이는 N개의 원소를 포함하고 있는 양방향 순환 큐를 가지고 있다. 지민이는 이 큐에서 몇 개의 원소를 뽑아내려고 한다.\n",
    "\n",
    "지민이는 이 큐에서 다음과 같은 3가지 연산을 수행할 수 있다.\n",
    "\n",
    "1. 첫 번째 원소를 뽑아낸다. 이 연산을 수행하면, 원래 큐의 원소가 $a_1, ..., a_k$이었던 것이 $a_2, ..., a_k$와 같이 된다.\n",
    "2. 왼쪽으로 한 칸 이동시킨다. 이 연산을 수행하면, $a_1, ..., a_k$가 $a_2, ..., a_k$, a1이 된다.\n",
    "3. 오른쪽으로 한 칸 이동시킨다. 이 연산을 수행하면, $a_1, ..., a_k$가 $a_k$, $a_1, ..., ak_1$이 된다.\n",
    "\n",
    "큐에 처음에 포함되어 있던 수 N이 주어진다. 그리고 지민이가 뽑아내려고 하는 원소의 위치가 주어진다. (이 위치는 가장 처음 큐에서의 위치이다.) 이때, 그 원소를 주어진 순서대로 뽑아내는데 드는 **2번, 3번 연산의 최솟값**을 출력하는 프로그램을 작성하시오.\n",
    "\n",
    "1번의 popleft 연산은 계산에 포함되지 않는 것을 기억하자.\n",
    "\n",
    "## input\n",
    "\n",
    "첫째 줄에 큐의 크기 N과 뽑아내려고 하는 수의 개수 M이 주어진다. N은 50보다 작거나 같은 자연수이고, M은 N보다 작거나 같은 자연수이다. 둘째 줄에는 지민이가 뽑아내려고 하는 수의 위치가 순서대로 주어진다. 위치는 1보다 크거나 같고, N보다 작거나 같은 자연수이다.\n",
    "\n",
    "## output\n",
    "\n",
    "**첫째 줄에 문제의 정답을 출력한다.**\n",
    "\n",
    "## think\n",
    "\n",
    "::::{div} sd-rounded-3 sd-border-2 sd-shadow-md sd-p-5 sd-m-5\n",
    "회전큐를 사용해보기!?\n",
    ":::{div} sd-text-right sd-text-muted\n",
    "-- from su\n",
    ":::\n",
    "::::"
   ]
  },
  {
   "cell_type": "markdown",
   "metadata": {},
   "source": [
    "## python "
   ]
  },
  {
   "cell_type": "code",
   "execution_count": 60,
   "metadata": {},
   "outputs": [],
   "source": [
    "import sys, os\n",
    "\n",
    "problem_num = \"1021\"\n",
    "\n",
    "path = os.getcwd() + f\"\\\\txt\\\\{problem_num}\" + \".txt\"\n",
    "sys.stdin = open(path, \"r\")\n",
    "input = sys.stdin.readline"
   ]
  },
  {
   "cell_type": "code",
   "execution_count": 61,
   "metadata": {},
   "outputs": [],
   "source": [
    "from collections import deque\n",
    "\n",
    "queue_size, wanted_number = map(int, input().split())\n",
    "wanted_list = deque(map(int, input().split()))\n",
    "result = 0\n",
    "circular_queue = deque([x for x in range(1, queue_size + 1)])"
   ]
  },
  {
   "cell_type": "code",
   "execution_count": 62,
   "metadata": {},
   "outputs": [
    {
     "name": "stdout",
     "output_type": "stream",
     "text": [
      "14\n"
     ]
    }
   ],
   "source": [
    "while wanted_list:\n",
    "    now = wanted_list.popleft()\n",
    "    if circular_queue[0] == now:\n",
    "        circular_queue.popleft()\n",
    "    else:\n",
    "        # step2 rotate(n=-1)\n",
    "        if circular_queue.index(now) < len(circular_queue) / 2:\n",
    "            while circular_queue[0] != now:\n",
    "                circular_queue.rotate(-1)\n",
    "                result += 1\n",
    "\n",
    "        # step3 rotate(n=1)\n",
    "        else:\n",
    "            while circular_queue[0] != now:\n",
    "                circular_queue.rotate(1)\n",
    "                result += 1\n",
    "\n",
    "    if circular_queue and circular_queue[0] == now:\n",
    "        circular_queue.popleft()\n",
    "\n",
    "print(result)"
   ]
  },
  {
   "cell_type": "markdown",
   "metadata": {},
   "source": [
    "## javascript"
   ]
  },
  {
   "cell_type": "markdown",
   "metadata": {},
   "source": [
    "```{code-block} javascript\n",
    ":caption: nodejs code\n",
    ":lineno-start: 1\n",
    "\n",
    "\n",
    "```"
   ]
  },
  {
   "cell_type": "markdown",
   "metadata": {},
   "source": [
    "```{raw} html\n",
    "<script\n",
    "   type=\"text/javascript\"\n",
    "   src=\"https://utteranc.es/client.js\"\n",
    "   async=\"async\"\n",
    "   repo=\"surdarla/surdarla.github.io\"\n",
    "   issue-term=\"pathname\"\n",
    "   theme=\"github-light\"\n",
    "   label=\"💬 comment\"\n",
    "   crossorigin=\"anonymous\"\n",
    "/>\n",
    "```"
   ]
  }
 ],
 "metadata": {
  "kernelspec": {
   "display_name": ".venv",
   "language": "python",
   "name": "python3"
  },
  "language_info": {
   "codemirror_mode": {
    "name": "ipython",
    "version": 3
   },
   "file_extension": ".py",
   "mimetype": "text/x-python",
   "name": "python",
   "nbconvert_exporter": "python",
   "pygments_lexer": "ipython3",
   "version": "3.11.4"
  }
 },
 "nbformat": 4,
 "nbformat_minor": 2
}
