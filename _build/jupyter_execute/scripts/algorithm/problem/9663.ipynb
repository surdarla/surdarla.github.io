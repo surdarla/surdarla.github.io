{
 "cells": [
  {
   "cell_type": "markdown",
   "metadata": {},
   "source": [
    "(N-Queen)=\n",
    "# 9663 : N-Queen\n",
    "\n",
    "- <img src=\"https://d2gd6pc034wcta.cloudfront.net/tier/12.svg\" width=\"15\" height=\"15\"/> gold 4\n",
    "\n",
    "| 시간제한 | 메모리제한 | 정답비율 |\n",
    "| :------: | :--------: | :------: |\n",
    "|   10초    |   128MB    | 46.6% |"
   ]
  },
  {
   "cell_type": "markdown",
   "metadata": {},
   "source": [
    "**문제**\n",
    "\n",
    "N-Queen 문제는 크기가 N × N인 체스판 위에 퀸 N개를 서로 공격할 수 없게 놓는 문제이다.\n",
    "\n",
    "N이 주어졌을 때, 퀸을 놓는 방법의 수를 구하는 프로그램을 작성하시오.\n",
    "\n",
    "**입력**\n",
    "\n",
    "1<=n<15\n",
    "\n",
    "**출력**\n",
    "\n",
    "첫째 줄에 퀸 N개를 서로 공격할 수 없게 놓는 경우의 수 출력"
   ]
  },
  {
   "cell_type": "markdown",
   "metadata": {},
   "source": [
    "## python "
   ]
  },
  {
   "cell_type": "code",
   "execution_count": 4,
   "metadata": {},
   "outputs": [],
   "source": [
    "import sys, os\n",
    "\n",
    "problem_num = \"9663\"\n",
    "\n",
    "path = os.getcwd() + f\"\\\\txt\\\\{problem_num}\" + \".txt\"\n",
    "sys.stdin = open(path, \"r\")\n",
    "input = sys.stdin.readline"
   ]
  },
  {
   "cell_type": "code",
   "execution_count": 3,
   "metadata": {},
   "outputs": [
    {
     "data": {
      "text/plain": [
       "8"
      ]
     },
     "execution_count": 3,
     "metadata": {},
     "output_type": "execute_result"
    }
   ],
   "source": [
    "n = int(input())"
   ]
  },
  {
   "cell_type": "code",
   "execution_count": 7,
   "metadata": {},
   "outputs": [],
   "source": [
    "def solveNQueens(n):\n",
    "    def can_place(row, col):\n",
    "        for i in range(row):\n",
    "            if (\n",
    "                board[i] == col\n",
    "                or board[i] - i == col - row\n",
    "                or board[i] + i == col + row\n",
    "            ):\n",
    "                return False\n",
    "        return True\n",
    "\n",
    "    def place_queen(row, n):\n",
    "        if row == n:\n",
    "            result.append(board[:])\n",
    "            return\n",
    "        for col in range(n):\n",
    "            if can_place(row, col):\n",
    "                board[row] = col\n",
    "                place_queen(row + 1, n)\n",
    "                board[row] = 0\n",
    "\n",
    "    result = []\n",
    "    board = [0] * n\n",
    "    place_queen(0, n)\n",
    "    return result"
   ]
  },
  {
   "cell_type": "code",
   "execution_count": 13,
   "metadata": {},
   "outputs": [
    {
     "data": {
      "text/plain": [
       "10"
      ]
     },
     "execution_count": 13,
     "metadata": {},
     "output_type": "execute_result"
    }
   ],
   "source": [
    "len(solveNQueens(5))"
   ]
  },
  {
   "cell_type": "markdown",
   "metadata": {},
   "source": [
    "## Python - class"
   ]
  },
  {
   "cell_type": "code",
   "execution_count": 3,
   "metadata": {},
   "outputs": [],
   "source": [
    "class Board:\n",
    "    def __init__(self, size):\n",
    "        self.size = size\n",
    "        self.columns = []\n",
    "\n",
    "    def place_in_next_row(self, column):\n",
    "        self.columns.append(column)\n",
    "\n",
    "    def remove_in_current_row(self):\n",
    "        return self.columns.pop()\n",
    "\n",
    "    def is_this_column_safe_in_next_row(self, column):\n",
    "        row = len(self.columns)\n",
    "        for i in range(row):\n",
    "            if (\n",
    "                (self.columns[i] == column)\n",
    "                or (self.columns[i] - i == column - row)\n",
    "                or (self.columns[i] + i == column + row)\n",
    "            ):\n",
    "                return False\n",
    "        return True\n",
    "\n",
    "    def display(self):\n",
    "        for row in range(self.size):\n",
    "            for column in range(self.size):\n",
    "                if column == self.columns[row]:\n",
    "                    print(\"Q\", end=\" \")\n",
    "                else:\n",
    "                    print(\".\", end=\" \")\n",
    "            print()\n",
    "\n",
    "\n",
    "class NQueens:\n",
    "    def __init__(self, size):\n",
    "        self.size = size\n",
    "        self.solutions = 0\n",
    "        self.solve()\n",
    "\n",
    "    def solve(self):\n",
    "        self.board = Board(self.size)\n",
    "        self.place_queen(0)\n",
    "        print(\"Found\", self.solutions, \"solutions\")\n",
    "\n",
    "    def place_queen(self, target_row):\n",
    "        if target_row == self.size:\n",
    "            self.solutions += 1\n",
    "            # self.board.display()\n",
    "            return\n",
    "        for column in range(self.size):\n",
    "            if self.board.is_this_column_safe_in_next_row(column):\n",
    "                self.board.place_in_next_row(column)\n",
    "                self.place_queen(target_row + 1)\n",
    "                self.board.remove_in_current_row()"
   ]
  },
  {
   "cell_type": "code",
   "execution_count": 4,
   "metadata": {},
   "outputs": [
    {
     "name": "stdout",
     "output_type": "stream",
     "text": [
      "Found 92 solutions\n"
     ]
    },
    {
     "data": {
      "text/plain": [
<<<<<<< HEAD
       "<__main__.NQueens at 0x19c176ee930>"
=======
       "<__main__.NQueens at 0x297fa78cfd0>"
>>>>>>> c424194691c9cf2ab72e6a646a5c7648c066f8cc
      ]
     },
     "execution_count": 4,
     "metadata": {},
     "output_type": "execute_result"
    }
   ],
   "source": [
    "NQueens(8)"
   ]
  },
  {
   "cell_type": "markdown",
   "metadata": {},
   "source": [
    "```{raw} html\n",
    "<script\n",
    "   type=\"text/javascript\"\n",
    "   src=\"https://utteranc.es/client.js\"\n",
    "   async=\"async\"\n",
    "   repo=\"surdarla/surdarla.github.io\"\n",
    "   issue-term=\"pathname\"\n",
    "   theme=\"github-light\"\n",
    "   label=\"💬 comment\"\n",
    "   crossorigin=\"anonymous\"\n",
    "/>\n",
    "```"
   ]
  }
 ],
 "metadata": {
  "kernelspec": {
   "display_name": ".venv",
   "language": "python",
   "name": "python3"
  },
  "language_info": {
   "codemirror_mode": {
    "name": "ipython",
    "version": 3
   },
   "file_extension": ".py",
   "mimetype": "text/x-python",
   "name": "python",
   "nbconvert_exporter": "python",
   "pygments_lexer": "ipython3",
   "version": "3.11.4"
  }
 },
 "nbformat": 4,
 "nbformat_minor": 2
}
