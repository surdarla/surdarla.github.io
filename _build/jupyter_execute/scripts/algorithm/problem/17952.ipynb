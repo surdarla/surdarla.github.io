{
 "cells": [
  {
   "cell_type": "markdown",
   "metadata": {},
   "source": [
    "# 17952 : 과제는 끝나지 않아! \n",
    "\n",
    "- <img src=\"https://d2gd6pc034wcta.cloudfront.net/tier/8.svg\" width=\"15\" height=\"15\"/> 실버 3\n",
    "\n",
    "| 시간제한 | 메모리제한  |   정답비율   |\n",
    "|:----:|:------:|:--------:|\n",
    "| 2 초  | 256 MB | 47.244 % |\n",
    "\n",
    "## 문제\n",
    "\n",
    "성애는 이번 학기에 전공을 정말 많이 듣는다. 이로 인해 거의 매일을 과제를 하면서 보내고 있다. 그런데도 과제가 줄어들 기미가 보이지 않는데, 바로 분단위로 과제가 추가되고 있기 때문이다. 다행히 과제 제출 기한은 학기가 끝날 때까지이다. 너무나도 많은 과제를 하다가 미쳐버린 성애는 아래와 같은 규칙으로 과제를 해 나가고 있다.\n",
    "\n",
    "과제는 가장 최근에 나온 순서대로 한다. 또한 과제를 받으면 바로 시작한다.\n",
    "과제를 하던 도중 새로운 과제가 나온다면, 하던 과제를 중단하고 새로운 과제를 진행한다.\n",
    "새로운 과제가 끝났다면, 이전에 하던 과제를 이전에 하던 부분부터 이어서 한다. (성애는 기억력이 좋기 때문에 아무리 긴 시간이 지나도 본인이 하던 부분을 기억할 수 있다.)\n",
    "성애는 과제를 받자마자 이 과제가 몇 분이 걸릴지 정확하게 알 수 있고, 성애가 제출한 과제는 무조건 만점을 받는다.\n",
    "\n",
    "성애는 이번 학기에 자기가 받을 과제 점수를 예상해보고 싶다. 하지만 과제 점수를 예상하는 지금도 과제가 추가되고 있기에 여유를 부릴 수가 없다. 여러분이 성애가 받을 과제 점수를 구해주자!\n",
    "\n",
    "\n",
    "## input\n",
    "\n",
    "첫째 줄에 이번 학기가 몇 분인지를 나타내는 정수 N이 주어진다. (1 ≤ N ≤ 1,000,000)\n",
    "\n",
    "두번째 줄부터 N줄 동안은 학기가 시작하고 N분째에 주어진 과제의 정보가 아래의 두 경우 중 하나로 주어진다.\n",
    "\n",
    "- 1 A T: 과제의 만점은 A점이고, 성애가 이 과제를 해결하는데 T분이 걸린다. A와 T는 모두 정수이다. (1 ≤ A ≤ 100, 1 ≤ T ≤ 1,000,000)\n",
    "- 0: 해당 시점에는 과제가 주어지지 않았다.\n",
    "\n",
    "## output\n",
    "\n",
    "**성애가 받을 과제 점수를 출력한다.**\n",
    "\n",
    "## think\n",
    "\n"
   ]
  },
  {
   "cell_type": "markdown",
   "metadata": {},
   "source": [
    "## python "
   ]
  },
  {
   "cell_type": "code",
   "execution_count": 1,
   "metadata": {},
   "outputs": [],
   "source": [
    "import sys, os\n",
    "\n",
    "problem_num = \"17952\"\n",
    "\n",
    "path = os.getcwd() + f\"\\\\txt\\\\{problem_num}\" + \".txt\"\n",
    "sys.stdin = open(path, \"r\")\n",
    "input = sys.stdin.readline"
   ]
  },
  {
   "cell_type": "code",
   "execution_count": 2,
   "metadata": {},
   "outputs": [
    {
     "name": "stdout",
     "output_type": "stream",
     "text": [
      "120\n"
     ]
    }
   ],
   "source": [
    "n = int(input())\n",
    "result = 0\n",
    "ass_stack = []\n",
    "for _ in range(n):\n",
    "    assignment = list(map(int, input().split()))\n",
    "    if assignment[0] == 1:\n",
    "        # 1 case : Add a new assignment\n",
    "        _, a, t = assignment\n",
    "        ass_stack.append({\"score\": a, \"time_left\": t - 1})\n",
    "\n",
    "    else:\n",
    "        # 0 case : do left thing\n",
    "        if ass_stack:\n",
    "            ass_stack[-1][\"time_left\"] -= 1\n",
    "\n",
    "    # 매 루프마다 공통적으로 실행해야할 check\n",
    "    if ass_stack and ass_stack[-1][\"time_left\"] == 0:\n",
    "        result += ass_stack[-1][\"score\"]\n",
    "        ass_stack.pop()\n",
    "\n",
    "print(result)"
   ]
  },
  {
   "cell_type": "markdown",
   "metadata": {},
   "source": [
    "```{raw} html\n",
    "<script\n",
    "   type=\"text/javascript\"\n",
    "   src=\"https://utteranc.es/client.js\"\n",
    "   async=\"async\"\n",
    "   repo=\"surdarla/surdarla.github.io\"\n",
    "   issue-term=\"pathname\"\n",
    "   theme=\"github-light\"\n",
    "   label=\"💬 comment\"\n",
    "   crossorigin=\"anonymous\"\n",
    "/>\n",
    "```"
   ]
  }
 ],
 "metadata": {
  "kernelspec": {
   "display_name": ".venv",
   "language": "python",
   "name": "python3"
  },
  "language_info": {
   "codemirror_mode": {
    "name": "ipython",
    "version": 3
   },
   "file_extension": ".py",
   "mimetype": "text/x-python",
   "name": "python",
   "nbconvert_exporter": "python",
   "pygments_lexer": "ipython3",
   "version": "3.12.4"
  }
 },
 "nbformat": 4,
 "nbformat_minor": 2
}