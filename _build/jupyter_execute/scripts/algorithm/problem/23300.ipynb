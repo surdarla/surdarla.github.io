{
 "cells": [
  {
   "cell_type": "markdown",
   "metadata": {},
   "source": [
    "# 23300 : 웹 브라우저 2\n",
    "\n",
    "- 골드 V\n",
    "- 34.986%\n",
    "- stack, queue, class 구현\n",
    "\n",
    "deque를 사용한 cache class를 구현하고 차례로 해준다. 문제를 잘읽어야 하는게 back, front를 print하는 것은 역순으로 해주어야 한다는 것.\n",
    "\n",
    "## output\n",
    "\n",
    "1. 현재 접속 중인 페이지 번호\n",
    "2. back에 `가장 최근에 방문한 순서대로` 페이지 번호 출력(-1)\n",
    "3. front에 `가장 최근에 방문한 순서대로` 페이지 번호를 출력(-1)"
   ]
  },
  {
   "cell_type": "code",
   "execution_count": 42,
   "metadata": {},
   "outputs": [],
   "source": [
    "from collections import deque\n",
    "\n",
    "class Cache:\n",
    "    def __init__(self):\n",
    "        self.opened_page = \"x\"\n",
    "        self.front_cache = deque()\n",
    "        self.back_cache = deque()\n",
    "\n",
    "    def access(self, i):\n",
    "        self.front_cache.clear()\n",
    "        if self.opened_page != \"x\":\n",
    "            self.back_cache.append(self.opened_page)\n",
    "        self.opened_page = i\n",
    "\n",
    "    def backward(self):\n",
    "        if len(self.back_cache) > 0:\n",
    "            self.front_cache.append(self.opened_page)\n",
    "            to_go = self.back_cache.pop()\n",
    "            self.opened_page = to_go\n",
    "\n",
    "    def frontward(self):\n",
    "        if len(self.front_cache) > 0:\n",
    "            self.back_cache.append(self.opened_page)\n",
    "            to_go = self.front_cache.pop()\n",
    "            self.opened_page = to_go\n",
    "\n",
    "    def compress(self):\n",
    "        if self.back_cache:\n",
    "            compressed_back_cache = deque()\n",
    "            prev_page = None\n",
    "            for page in self.back_cache:\n",
    "                if page != prev_page:\n",
    "                    compressed_back_cache.append(page)\n",
    "                prev_page = page\n",
    "            self.back_cache = compressed_back_cache\n",
    "\n",
    "    def printer(self):\n",
    "        print(self.opened_page)\n",
    "        if len(self.back_cache) > 0:\n",
    "            print(*reversed(self.back_cache))\n",
    "        else:\n",
    "            print(-1)\n",
    "        if len(self.front_cache) > 0:\n",
    "            print(*reversed(self.front_cache))\n",
    "        else:\n",
    "            print(-1)"
   ]
  },
  {
   "cell_type": "code",
   "execution_count": 43,
   "metadata": {},
   "outputs": [
    {
     "name": "stdout",
     "output_type": "stream",
     "text": [
      "1\n",
      "3 1 2 1\n",
      "-1\n"
     ]
    }
   ],
   "source": [
    "# input setting\n",
    "problem_num = \"23300\"\n",
    "import os, sys\n",
    "\n",
    "path = os.getcwd() + f\"\\\\txt\\\\{problem_num}\" + \".txt\"\n",
    "sys.stdin = open(path, \"r\")\n",
    "\n",
    "n, q = map(int, sys.stdin.readline().split())\n",
    "cache = Cache()\n",
    "for i in range(q):\n",
    "    query = sys.stdin.readline().split()\n",
    "    if query[0] == \"A\":\n",
    "        cache.access(int(query[1]))\n",
    "    elif query[0] == \"B\":\n",
    "        cache.backward()\n",
    "    elif query[0] == \"F\":\n",
    "        cache.frontward()\n",
    "    elif query[0] == \"C\":\n",
    "        cache.compress()\n",
    "cache.printer()"
   ]
  },
  {
   "cell_type": "markdown",
   "metadata": {},
   "source": [
    "```{raw} html\n",
    "<script\n",
    "   type=\"text/javascript\"\n",
    "   src=\"https://utteranc.es/client.js\"\n",
    "   async=\"async\"\n",
    "   repo=\"surdarla/surdarla.github.io\"\n",
    "   issue-term=\"pathname\"\n",
    "   theme=\"github-light\"\n",
    "   label=\"💬 comment\"\n",
    "   crossorigin=\"anonymous\"\n",
    "/>\n",
    "```"
   ]
  }
 ],
 "metadata": {
  "kernelspec": {
   "display_name": ".venv",
   "language": "python",
   "name": "python3"
  },
  "language_info": {
   "codemirror_mode": {
    "name": "ipython",
    "version": 3
   },
   "file_extension": ".py",
   "mimetype": "text/x-python",
   "name": "python",
   "nbconvert_exporter": "python",
   "pygments_lexer": "ipython3",
   "version": "3.11.4"
  }
 },
 "nbformat": 4,
 "nbformat_minor": 2
}
