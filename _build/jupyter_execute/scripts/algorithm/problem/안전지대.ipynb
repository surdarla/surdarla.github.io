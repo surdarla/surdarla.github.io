{
 "cells": [
  {
   "cell_type": "markdown",
   "metadata": {},
   "source": [
    "# 안전지대 \n",
    "\n",
    "프로그래머스\\\n",
    "정답률: 58%\\\n",
    "영역:탐색\\\n",
    "나의 예상 정답률:63.5%\\\n",
    "상승률:1.7%\n",
    "\n",
    "지뢰는 2차원 배열 board에 1로 표시되어 있고 board에는 지뢰가 매설 된 지역 1과, 지뢰가 없는 지역 0만 존재합니다.\\\n",
    "지뢰가 매설된 지역의 지도 board가 매개변수로 주어질 때, 안전한 지역의 칸 수를 return하도록 solution 함수를 완성해주세요.\\\n",
    "board는 n * n 배열입니다.\\\n",
    "1 ≤ n ≤ 100\\\n",
    "지뢰는 1로 표시되어 있습니다.\\\n",
    "board에는 지뢰가 있는 지역 1과 지뢰가 없는 지역 0만 존재합니다."
   ]
  },
  {
   "cell_type": "code",
   "execution_count": 1,
   "metadata": {},
   "outputs": [],
   "source": [
    "# input setting\n",
    "problem_num = '안전지대'\n",
    "\n",
    "import os, sys\n",
    "path = os.getcwd() + f'\\\\txt\\\\{problem_num}'  + '.txt'\n",
    "sys.stdin = open(path,'r')\n",
    "board = sys.stdin.readlines()\n",
    "board = [list(map(int,s.strip().split(' '))) for s in board]"
   ]
  },
  {
   "cell_type": "code",
   "execution_count": 2,
   "metadata": {},
   "outputs": [],
   "source": [
    "import numpy as np\n",
    "def solution(board):\n",
    "    mask = np.zeros_like(board)\n",
    "    i,j = mask.shape[0],mask.shape[1]\n",
    "    for n in range(i):\n",
    "        for m in range(j):\n",
    "            if board[n][m] == 1:\n",
    "                for a in range(n-1 if n-1 > 0 else 0, n+2 if n+2 < i else i):\n",
    "                    for b in range(m-1 if m-1 > 0 else 0, m+2 if m+2 < j else j):\n",
    "                        mask[a][b] = 1\n",
    "    answer = int(i*j-mask.sum())\n",
    "    return answer"
   ]
  },
  {
   "cell_type": "code",
   "execution_count": 3,
   "metadata": {},
   "outputs": [
    {
     "data": {
      "text/plain": [
       "13"
      ]
     },
     "execution_count": 3,
     "metadata": {},
     "output_type": "execute_result"
    }
   ],
   "source": [
    "solution(board)"
   ]
  },
  {
   "cell_type": "markdown",
   "metadata": {},
   "source": [
    "- 마스킹\n",
    "- np.sum for ndarray\n",
    "- map의 iterable 요소를 풀어서 넣으면 [map~]이렇게 넣으면 안되고 list(map~) 이렇게 넣어줘야한다."
   ]
  },
  {
   "cell_type": "markdown",
   "metadata": {},
   "source": [
    "```{raw} html\n",
    "<script\n",
    "   type=\"text/javascript\"\n",
    "   src=\"https://utteranc.es/client.js\"\n",
    "   async=\"async\"\n",
    "   repo=\"surdarla/surdarla.github.io\"\n",
    "   issue-term=\"pathname\"\n",
    "   theme=\"github-light\"\n",
    "   label=\"💬 comment\"\n",
    "   crossorigin=\"anonymous\"\n",
    "/>\n",
    "```"
   ]
  }
 ],
 "metadata": {
  "kernelspec": {
   "display_name": ".venv",
   "language": "python",
   "name": "python3"
  },
  "language_info": {
   "codemirror_mode": {
    "name": "ipython",
    "version": 3
   },
   "file_extension": ".py",
   "mimetype": "text/x-python",
   "name": "python",
   "nbconvert_exporter": "python",
   "pygments_lexer": "ipython3",
   "version": "3.11.4"
  }
 },
 "nbformat": 4,
 "nbformat_minor": 2
}
