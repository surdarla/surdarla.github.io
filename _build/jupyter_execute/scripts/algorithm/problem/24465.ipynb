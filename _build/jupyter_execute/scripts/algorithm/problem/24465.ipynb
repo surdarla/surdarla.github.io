{
 "cells": [
  {
   "cell_type": "markdown",
   "metadata": {},
   "source": [
    "# 24465 : 데뷔의 꿈\n",
    "\n",
    "- <img src=\"https://d2gd6pc034wcta.cloudfront.net/tier/7.svg\" width=\"15\" height=\"15\"/> 실버 4\n",
    "\n",
    "| 시간제한 | 메모리제한 | 정답비율 |\n",
    "| :------: | :--------: | :------: |\n",
    "|   1초    |   512MB    |56.3 % |"
   ]
  },
  {
   "cell_type": "markdown",
   "metadata": {},
   "source": [
    "## 문제\n",
    "\n",
    "7인조 그룹인 Aloha의 새로운 멤버를 뽑는 오디션이 개최되었다. 평소 Aloha의 팬이던 현수는 오디션에 지원하기로 했다.\n",
    "\n",
    "현수는 1차 서류심사 기준이 **기존 멤버들과 별자리가 겹치지 않는 사람**이라는 내부정보를 입수했다. 현수는 과연 오디션에 합격할 수 있을까?\n",
    "\n",
    "아래 별자리표를 참고하여 1차 서류심사를 통과할 수 있는 사람들의 생일을 출력해보자.\n",
    "\n",
    "| 별자리     | 기간                  |\n",
    "| :--------- | :-------------------- |\n",
    "| 물병자리   | 1월 20일 ~ 2월 18일   |\n",
    "| 물고기자리 | 2월 19일 ~ 3월 20일   |\n",
    "| 양자리     | 3월 21일 ~ 4월 19일   |\n",
    "| 황소자리   | 4월 20일 ~ 5월 20일   |\n",
    "| 쌍둥이자리 | 5월 21일 ~ 6월 21일   |\n",
    "| 게자리     | 6월 22일 ~ 7월 22일   |\n",
    "| 사자자리   | 7월 23일 ~ 8월 22일   |\n",
    "| 처녀자리   | 8월 23일 ~ 9월 22일   |\n",
    "| 천칭자리   | 9월 23일 ~ 10월 22일  |\n",
    "| 전갈자리   | 10월 23일 ~ 11월 22일 |\n",
    "| 사수자리   | 11월 23일 ~ 12월 21일 |\n",
    "| 염소자리   | 12월 22일 ~ 1월 19일  |\n",
    "\n",
    "## input\n",
    "\n",
    "1-7. 일곱 명의 aloha 멤버들의 생일이 한줄씩   \n",
    "8- 오디션 지원 수 n   \n",
    "n- 지원자의 생일이 한 줄 씩 주어짐.\n",
    "\n",
    "모든 생일은 달과 날 순서대로 주어지면 공백으로 구분\n",
    "\n",
    "## output\n",
    "\n",
    "1차 서류심사 합격자들의 생일을 빠른 순서대로 한 줄에 하나씩 출력.   \n",
    "합격자가 한 명도 없는 경우 `ALL FAILED`를 출력"
   ]
  },
  {
   "cell_type": "markdown",
   "metadata": {},
   "source": [
    "## python "
   ]
  },
  {
   "cell_type": "code",
   "execution_count": 49,
   "metadata": {},
   "outputs": [],
   "source": [
    "import sys, os\n",
    "\n",
    "problem_num = \"24465\"\n",
    "\n",
    "path = os.getcwd() + f\"\\\\txt\\\\{problem_num}\" + \".txt\"\n",
    "sys.stdin = open(path, \"r\")\n",
    "input = sys.stdin.readline"
   ]
  },
  {
   "cell_type": "code",
   "execution_count": 50,
   "metadata": {},
   "outputs": [],
   "source": [
    "from datetime import datetime\n",
    "import calendar\n",
    "\n",
    "\n",
    "class Person:\n",
    "    def __init__(self, month: int, day: int):\n",
    "        self.year = self.find_recent_leap_year()\n",
    "        self.birthday = datetime(self.year, month, day)\n",
    "\n",
    "\n",
    "    def find_recent_leap_year(self):\n",
    "        current_year = datetime.now().year\n",
    "        for year in range(current_year, 0, -1):\n",
    "            if calendar.isleap(year):\n",
    "                return year\n",
    "        return None\n",
    "\n",
    "    def find_zodiac_sign(self):\n",
    "        zodiac_signs = {\n",
    "            \"물병자리\": ((1, 20), (2, 18)),\n",
    "            \"물고기자리\": ((2, 19), (3, 20)),\n",
    "            \"양자리\": ((3, 21), (4, 19)),\n",
    "            \"황소자리\": ((4, 20), (5, 20)),\n",
    "            \"쌍둥이자리\": ((5, 21), (6, 21)),\n",
    "            \"게자리\": ((6, 22), (7, 22)),\n",
    "            \"사자자리\": ((7, 23), (8, 22)),\n",
    "            \"처녀자리\": ((8, 23), (9, 22)),\n",
    "            \"천칭자리\": ((9, 23), (10, 22)),\n",
    "            \"전갈자리\": ((10, 23), (11, 22)),\n",
    "            \"사수자리\": ((11, 23), (12, 21)),\n",
    "            \"염소자리\": ((12, 22), (1, 19)),\n",
    "        }\n",
    "        for sign, (start, end) in zodiac_signs.items():\n",
    "            start_date = datetime(self.year, *start)\n",
    "            end_date = datetime(self.year, *end)\n",
    "            if start_date <= self.birthday <= end_date:\n",
    "                return sign\n",
    "        return \"Unable to find zodiac sign\""
   ]
  },
  {
   "cell_type": "code",
   "execution_count": 51,
   "metadata": {},
   "outputs": [
    {
     "name": "stdout",
     "output_type": "stream",
     "text": [
      "2 29\n",
      "9 30\n",
      "10 8\n"
     ]
    }
   ],
   "source": [
    "aloha_zodiac = []\n",
    "accepted = []\n",
    "for _ in range(7):\n",
    "    month, day = map(int, input().split())\n",
    "    aloha_zodiac.append(Person(month, day).find_zodiac_sign())\n",
    "n = int(input())\n",
    "for _ in range(n):\n",
    "    month, day = map(int, input().split())\n",
    "    applier = Person(month, day)\n",
    "    if applier.find_zodiac_sign() not in aloha_zodiac:\n",
    "        accepted.append(applier)\n",
    "if accepted:\n",
    "    sorting = sorted(accepted, key=lambda x: x.birthday)\n",
    "    for i in sorting:\n",
    "        print(f\"{int(i.birthday.month)} {int(i.birthday.day)}\")\n",
    "else:\n",
    "    print(\"ALL FAILED\")"
   ]
  },
  {
   "cell_type": "markdown",
   "metadata": {},
   "source": [
    "## [ValueError](https://docs.python.org/3/library/exceptions.html#ValueError)\n",
    "\n",
    "> Raised when an operation or function receives an argument that has the right type but an inappropriate value, and the situation is not described by a more precise exception such as IndexError.\n",
    "\n",
    "아주 윤년때문에 고생을 했다. 윤년에는 2월에 29일까지 있는데 이 경우에는 year가 윤년이 아닌 것을 default value로 넣어놓았으면 계속 `ValueError`가 뜬다. 그렇기 때문에 calender로 is_leap_year를 찾아준다음에 이 년도를 가지고 사용한다."
   ]
  },
  {
   "cell_type": "markdown",
   "metadata": {},
   "source": [
    "```{raw} html\n",
    "<script\n",
    "   type=\"text/javascript\"\n",
    "   src=\"https://utteranc.es/client.js\"\n",
    "   async=\"async\"\n",
    "   repo=\"surdarla/surdarla.github.io\"\n",
    "   issue-term=\"pathname\"\n",
    "   theme=\"github-light\"\n",
    "   label=\"💬 comment\"\n",
    "   crossorigin=\"anonymous\"\n",
    "/>\n",
    "```"
   ]
  }
 ],
 "metadata": {
  "kernelspec": {
   "display_name": ".venv",
   "language": "python",
   "name": "python3"
  },
  "language_info": {
   "codemirror_mode": {
    "name": "ipython",
    "version": 3
   },
   "file_extension": ".py",
   "mimetype": "text/x-python",
   "name": "python",
   "nbconvert_exporter": "python",
   "pygments_lexer": "ipython3",
   "version": "3.11.4"
  }
 },
 "nbformat": 4,
 "nbformat_minor": 2
}
