{
 "cells": [
  {
   "cell_type": "markdown",
   "metadata": {},
   "source": [
    "# 2530 : 인공지능 시계\n",
    "\n",
    "- [문제url](https://www.acmicpc.net/problem/2530)\n",
    "- 브론즈 4\n",
    "\n",
    "| 시간 제한 | 메모리 제한 | 정답 비율 |\n",
    "| :---:| :---:| :---:|\n",
    "|1초 | 128MB | 46.383%|\n",
    "\n",
    "## input\n",
    "\n",
    "초 단위로 오븐 구이가 끝나는 시간을 구하는 것을 구해라\n",
    "\n",
    "- 첫번째 줄 : 현재 시각 시,분,초\n",
    "- 두번째 줄 : 요리하는데 필요한 시간"
   ]
  },
  {
   "cell_type": "code",
   "execution_count": 2,
   "metadata": {},
   "outputs": [
    {
     "name": "stdout",
     "output_type": "stream",
     "text": [
      "14 33 20\n"
     ]
    }
   ],
   "source": [
    "# input setting\n",
    "problem_num = 2530\n",
    "import os, sys\n",
    "path = os.getcwd() + f'\\\\txt\\\\{problem_num}'  + '.txt'\n",
    "sys.stdin = open(path,'r')\n",
    "\n",
    "start_time = list(map(int,sys.stdin.readline().split()))\n",
    "need_time = int(sys.stdin.readline().strip())\n",
    "\n",
    "# def\n",
    "import datetime\n",
    "def oven_clock(start, need):\n",
    "    start_datetime = datetime.datetime(2023,1,1,hour=start[0], minute=start[1], second=start[2])\n",
    "    spend_datetime = datetime.timedelta(seconds=need)\n",
    "    output_datetime = start_datetime + spend_datetime\n",
    "    return  output_datetime.hour, output_datetime.minute, output_datetime.second\n",
    "\n",
    "a,b,c  = oven_clock(start_time, need_time)\n",
    "print(a,b,c)"
   ]
  },
  {
   "cell_type": "markdown",
   "metadata": {},
   "source": [
    "```{raw} html\n",
    "<script\n",
    "   type=\"text/javascript\"\n",
    "   src=\"https://utteranc.es/client.js\"\n",
    "   async=\"async\"\n",
    "   repo=\"surdarla/surdarla.github.io\"\n",
    "   issue-term=\"pathname\"\n",
    "   theme=\"github-light\"\n",
    "   label=\"💬 comment\"\n",
    "   crossorigin=\"anonymous\"\n",
    "/>\n",
    "```"
   ]
  },
  {
   "cell_type": "code",
   "execution_count": null,
   "metadata": {},
   "outputs": [],
   "source": []
  }
 ],
 "metadata": {
  "kernelspec": {
   "display_name": ".venv",
   "language": "python",
   "name": "python3"
  },
  "language_info": {
   "codemirror_mode": {
    "name": "ipython",
    "version": 3
   },
   "file_extension": ".py",
   "mimetype": "text/x-python",
   "name": "python",
   "nbconvert_exporter": "python",
   "pygments_lexer": "ipython3",
   "version": "3.11.4"
  }
 },
 "nbformat": 4,
 "nbformat_minor": 2
}
