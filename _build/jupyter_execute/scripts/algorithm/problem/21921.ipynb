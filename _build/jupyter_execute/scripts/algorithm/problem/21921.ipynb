{
 "cells": [
  {
   "cell_type": "markdown",
   "metadata": {},
   "source": [
    "# [21921 : 블로그](https://www.acmicpc.net/problem/21921)\n",
    "\n",
    "- <img src=\"https://d2gd6pc034wcta.cloudfront.net/tier/8.svg\" width=\"15\" height=\"15\"/> 실버 3\n",
    "\n",
    "| 시간제한 | 메모리제한 | 정답비율 |\n",
    "| :------: | :--------: | :------: |\n",
    "|   1초    |   512MB    | 40.744% |"
   ]
  },
  {
   "cell_type": "markdown",
   "metadata": {},
   "source": [
    "input : 시작한지 n일,x일 / 1~n일차 방문자수  split\n",
    "output : x일 동안 들어온 최대 방문자수 출력. 0 = \"SAD\" / 기간\n",
    "\n",
    "x일동안 최고라는 것은 x길이만큼 덩어리의 방문자수가 제일 큰 것을 말하는 것으로 보임. 그니깐 다 잘라서 해야하는지? 근데 250000인데 완전탐색으로 하면 안될 것으로 보이고, 그리디로 해야할듯. 근데 완전탐색이 제일 맞는 것으로 보이는데\n",
    "\n",
    "## 시간초과\n",
    "\n",
    "누적합을 사용하지 않으면 시간초과가 계속났다. `O(n*x)`의 시간복잡도를 가지고 있는 것을 누적합을 사용하면 `O(n)`의 시간복잡도로 축소시킬 수 있다. 기존의 식은 `x`일씩의 하위 배열 sum을 계산하므로 반복계산으로 시간이 많이 소요된다. 예상한대로 n의 범주가 큼으로 최적화가 필요했다. `sum을 사용하지 않으면서 단순 덧뺄셈으로 구간합`을 구할 수 있게 변경했어야 했다."
   ]
  },
  {
   "cell_type": "markdown",
   "metadata": {},
   "source": [
    "## python "
   ]
  },
  {
   "cell_type": "code",
   "execution_count": 28,
   "metadata": {},
   "outputs": [],
   "source": [
    "import sys, os\n",
    "\n",
    "problem_num = \"21921\"\n",
    "\n",
    "path = os.getcwd() + f\"\\\\txt\\\\{problem_num}\" + \".txt\"\n",
    "sys.stdin = open(path, \"r\")\n",
    "input = sys.stdin.readline"
   ]
  },
  {
   "cell_type": "code",
   "execution_count": 29,
   "metadata": {},
   "outputs": [
    {
     "name": "stdout",
     "output_type": "stream",
     "text": [
      "SAD\n"
     ]
    }
   ],
   "source": [
    "def find_max_visit(n, x, visitors):\n",
    "    if max(visitors) == 0:\n",
    "        print(\"SAD\")\n",
    "    else:\n",
    "        cumulative_sum = [0] * (n + 1)\n",
    "\n",
    "        for i in range(n):\n",
    "            cumulative_sum[i + 1] = cumulative_sum[i] + visitors[i]\n",
    "\n",
    "        max_visit = 0\n",
    "        hash_table = {}\n",
    "\n",
    "        for i in range(n - x + 1):\n",
    "            subarray_sum = cumulative_sum[i + x] - cumulative_sum[i]\n",
    "\n",
    "            if subarray_sum > max_visit:\n",
    "                max_visit = subarray_sum\n",
    "                hash_table[subarray_sum] = 1\n",
    "\n",
    "            elif subarray_sum == max_visit:\n",
    "                hash_table[subarray_sum] += 1\n",
    "\n",
    "        print(max_visit)\n",
    "        print(hash_table[max_visit])\n",
    "\n",
    "\n",
    "n, x = map(int, input().split())\n",
    "visitors = list(map(int, input().split()))\n",
    "find_max_visit(n, x, visitors)"
   ]
  },
  {
   "cell_type": "markdown",
   "metadata": {},
   "source": [
    "```{raw} html\n",
    "<script\n",
    "   type=\"text/javascript\"\n",
    "   src=\"https://utteranc.es/client.js\"\n",
    "   async=\"async\"\n",
    "   repo=\"surdarla/surdarla.github.io\"\n",
    "   issue-term=\"pathname\"\n",
    "   theme=\"github-light\"\n",
    "   label=\"💬 comment\"\n",
    "   crossorigin=\"anonymous\"\n",
    "/>\n",
    "```"
   ]
  }
 ],
 "metadata": {
  "kernelspec": {
   "display_name": ".venv",
   "language": "python",
   "name": "python3"
  },
  "language_info": {
   "codemirror_mode": {
    "name": "ipython",
    "version": 3
   },
   "file_extension": ".py",
   "mimetype": "text/x-python",
   "name": "python",
   "nbconvert_exporter": "python",
   "pygments_lexer": "ipython3",
   "version": "3.11.4"
  }
 },
 "nbformat": 4,
 "nbformat_minor": 2
}
