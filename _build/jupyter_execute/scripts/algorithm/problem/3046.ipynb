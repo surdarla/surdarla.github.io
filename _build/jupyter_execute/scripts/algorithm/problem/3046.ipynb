{
 "cells": [
  {
   "cell_type": "markdown",
   "metadata": {},
   "source": [
    "# 3046 : R2\n",
    "\n",
    "- [백준 url](https://www.acmicpc.net/problem/3046)\n",
    "- 브론즈 4\n",
    "\n",
    "## input\n",
    "\n",
    "- S(R1+R2/2), R1 가 주어질 때, R2를 구해라\n",
    "- 첫째 줄에 두 정수 R1과 S가 주어진다. 첫째 줄에 두 정수 R1과 S가 주어진다. \n"
   ]
  },
  {
   "cell_type": "code",
   "execution_count": 17,
   "metadata": {},
   "outputs": [
    {
     "name": "stdout",
     "output_type": "stream",
     "text": [
      "input : 11 15, input type : <class 'str'>\n",
      "19\n"
     ]
    }
   ],
   "source": [
    "# input setting\n",
    "problem_num = 3046\n",
    "\n",
    "import os, sys\n",
    "path = os.getcwd() + f'\\\\txt\\\\{problem_num}'  + '.txt'\n",
    "sys.stdin = open(path,'r')\n",
    "input = sys.stdin.readlines()[0]\n",
    "print(f'input : {input}, input type : {type(input)}')\n",
    "\n",
    "# solve problem\n",
    "r1,s = map(int,input.split())\n",
    "r2 = int(2*s - r1)\n",
    "print(r2)"
   ]
  },
  {
   "cell_type": "markdown",
   "metadata": {},
   "source": [
    "## solving issue\n",
    "\n",
    "1. 그냥 방정식이다."
   ]
  },
  {
   "cell_type": "markdown",
   "metadata": {},
   "source": [
    "```{raw} html\n",
    "<script\n",
    "   type=\"text/javascript\"\n",
    "   src=\"https://utteranc.es/client.js\"\n",
    "   async=\"async\"\n",
    "   repo=\"surdarla/surdarla.github.io\"\n",
    "   issue-term=\"pathname\"\n",
    "   theme=\"github-light\"\n",
    "   label=\"💬 comment\"\n",
    "   crossorigin=\"anonymous\"\n",
    "/>\n",
    "```"
   ]
  }
 ],
 "metadata": {
  "kernelspec": {
   "display_name": ".venv",
   "language": "python",
   "name": "python3"
  },
  "language_info": {
   "codemirror_mode": {
    "name": "ipython",
    "version": 3
   },
   "file_extension": ".py",
   "mimetype": "text/x-python",
   "name": "python",
   "nbconvert_exporter": "python",
   "pygments_lexer": "ipython3",
   "version": "3.11.4"
  }
 },
 "nbformat": 4,
 "nbformat_minor": 2
}