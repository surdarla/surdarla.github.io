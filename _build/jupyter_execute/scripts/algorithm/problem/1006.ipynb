{
 "cells": [
  {
   "cell_type": "markdown",
   "metadata": {},
   "source": [
    "# [1006 : 습격자 초라기](https://www.acmicpc.net/problem/1006)\n",
    "\n",
    "- <img src=\"https://d2gd6pc034wcta.cloudfront.net/tier/18.svg\" width=\"15\" height=\"15\"/> 티어\n",
    "- 초보자 좌절 전용 문제\n",
    "- 예전에 한 번 본적 있던 거 같은데 다시 풀어본다.\n",
    "\n",
    "| 시간제한 | 메모리제한 | 정답비율 |\n",
    "| :------: | :--------: | :------: |\n",
    "|   2초    |   512MB    | 19.8% |"
   ]
  },
  {
   "cell_type": "markdown",
   "metadata": {},
   "source": [
    "## 문제\n",
    "\n",
    "초라기는 한국의 비밀국방기지(원타곤)를 습격하라는 임무를 받은 특급요원이다. 원타곤의 건물은 도넛 형태이며, 초라기는 효율적인 타격 포인트를 정하기 위해 구역을 아래와 같이 두 개의 원 모양으로 나누었다.\n",
    "\n",
    "```{figure} https://www.acmicpc.net/upload/201003/dfck3232_34g7t9f4gp_b.jpg\n",
    "숫자는 각 구역의 번호\n",
    "```\n",
    "\n",
    "초라기는 각각 W명으로 구성된 특수소대를 다수 출동시켜 모든 구역에 침투시킬 예정이며, 각 구역 별로 적이 몇 명씩 배치되어 있는지는 초라기가 모두 알고 있다. 특수소대를 아래 조건에 따라 침투 시킬 수 있다.\n",
    "\n",
    "1. 한 특수소대는 침투한 구역 외에, 인접한 한 구역 더 침투할 수 있다. (**같은 경계를 공유하고 있으면 인접 하다**고 한다. 위 그림에서 1구역은 2, 8, 9 구역과 서로 인접한 상태다.) 즉, 한 특수소대는 한 개 혹은 두 개의 구역을 커버할 수 있다.\n",
    "2. 특수소대끼리는 아군인지 적인지 구분을 못 하기 때문에, 각 구역은 하나의 소대로만 커버해야 한다.\n",
    "3. 한 특수소대가 커버하는 구역의 적들의 합은 특수소대원 수 W 보다 작거나 같아야 한다.\n",
    "\n",
    "이때 초라기는 원타곤의 모든 구역을 커버하기 위해 침투 시켜야 할 **특수 소대의 최소 개수**를 알고 싶어 한다.\n",
    "\n",
    "**입력**\n",
    "\n",
    "첫째 줄에 테스트 케이스의 개수 T가 주어진다. 각 테스트 케이스는 다음과 같이 구성되어있다.\n",
    "\n",
    "첫째 줄에는 (구역의 개수)/2 값 N과 특수 소대원의 수 W가 주어진다. (1 ≤ N ≤ 10000, 1 ≤ W ≤ 10000).\n",
    "\n",
    "둘째 줄에는 1~N번째 구역에 배치된 적의 수가 주어지고, 셋째 줄에는 N+1 ~ 2N번째 구역에 배치된 적의 수가 공백으로 구분되어 주어진다. (1 ≤ 각 구역에 배치된 최대 적의 수 ≤ 10000) 단, 한 구역에서 특수 소대원의 수보다 많은 적이 배치된 구역은 존재하지 않는다. (따라서, 각 구역에 배치된 최대 적의 수 ≤ W)\n",
    "\n",
    "**출력**\n",
    "\n",
    "각 테스트케이스에 대해서 한 줄에 하나씩 원타곤의 모든 구역을 커버하기 위해 침투 시켜야 할 특수 소대의 최소 개수를 출력하시오."
   ]
  },
  {
   "cell_type": "markdown",
   "metadata": {},
   "source": [
    "### think\n",
    "\n",
    "[dp](dp)문제이니깐 문제를 작은 것으로 나누는 `최적의 원리`랑 memorization을 이용해야할 것이다. \n",
    "\n",
    "1. 점화식을 세워보고\n",
    "2. 이전의 결과물이 뒤에 활용될 수 있으려면 최적의 원리. 그 순간의 최적이 뒤의 최적이 되어야한다.\n",
    "3. 그리고 이에 대해서 저장을 해서 계산효율성을 높여야한다.\n",
    "\n",
    "여기서 최적이 되어야할 부분은 무엇일까?\n"
   ]
  },
  {
   "cell_type": "markdown",
   "metadata": {},
   "source": [
    "## python "
   ]
  },
  {
   "cell_type": "code",
   "execution_count": 3,
   "metadata": {},
   "outputs": [],
   "source": [
    "import sys, os\n",
    "\n",
    "problem_num = \"1006\"\n",
    "\n",
    "path = os.getcwd() + f\"\\\\txt\\\\{problem_num}\" + \".txt\"\n",
    "sys.stdin = open(path, \"r\")\n",
    "input = sys.stdin.readline"
   ]
  },
  {
   "cell_type": "code",
   "execution_count": 4,
   "metadata": {},
   "outputs": [
    {
     "name": "stdout",
     "output_type": "stream",
     "text": [
      "0\n"
     ]
    }
   ],
   "source": [
    "class PentagonAttack:\n",
    "    def __init__(self, n, w, enemies):\n",
    "        self.n = n\n",
    "        self.w = w\n",
    "        self.enemies = enemies\n",
    "        self.dp = [[-1] * (2 * w * n + 1) for _ in range(n + 1)]\n",
    "\n",
    "    def solve(self):\n",
    "        result = self.min_special_forces(self.n, 0)\n",
    "        return result\n",
    "\n",
    "    def min_special_forces(self, remaining_sections, current_enemy_sum):\n",
    "        if remaining_sections == 0:\n",
    "            return 0\n",
    "\n",
    "        if self.dp[remaining_sections][current_enemy_sum] != -1:\n",
    "            return self.dp[remaining_sections][current_enemy_sum]\n",
    "\n",
    "        # 특수 소대원이 0명일 때는 침투를 하지 않음\n",
    "        min_special_forces_needed = self.min_special_forces(\n",
    "            remaining_sections - 1, current_enemy_sum\n",
    "        )\n",
    "\n",
    "        # 현재 구역의 최대 적 수와 특수 소대원 수 중 작은 값을 선택\n",
    "        max_enemies = min(self.w, self.enemies[remaining_sections - 1]) + 1\n",
    "\n",
    "        # 특수 소대원을 배치하거나 배치하지 않는 경우 중 최소값 선택\n",
    "        for i in range(max_enemies):\n",
    "            min_special_forces_needed = min(\n",
    "                min_special_forces_needed,\n",
    "                self.min_special_forces(remaining_sections - 1, current_enemy_sum + i)\n",
    "                + (i > 0),\n",
    "            )\n",
    "\n",
    "        self.dp[remaining_sections][current_enemy_sum] = min_special_forces_needed\n",
    "        return min_special_forces_needed\n",
    "\n",
    "\n",
    "# 테스트 케이스 입력 및 실행\n",
    "T = int(input())\n",
    "for _ in range(T):\n",
    "    N, W = map(int, input().split())\n",
    "    enemies1 = list(map(int, input().split()))\n",
    "    enemies2 = list(map(int, input().split()))\n",
    "\n",
    "    # 두 구역의 적을 합쳐서 하나의 리스트로 만듦\n",
    "    enemies = enemies1 + enemies2\n",
    "\n",
    "    # 클래스 생성 및 실행\n",
    "    pentagon_attack = PentagonAttack(N, W, enemies)\n",
    "    result = pentagon_attack.solve()\n",
    "    # 결과 출력\n",
    "    print(result)"
   ]
  },
  {
   "cell_type": "markdown",
   "metadata": {},
   "source": [
    "```{raw} html\n",
    "<script\n",
    "   type=\"text/javascript\"\n",
    "   src=\"https://utteranc.es/client.js\"\n",
    "   async=\"async\"\n",
    "   repo=\"surdarla/surdarla.github.io\"\n",
    "   issue-term=\"pathname\"\n",
    "   theme=\"github-light\"\n",
    "   label=\"💬 comment\"\n",
    "   crossorigin=\"anonymous\"\n",
    "/>\n",
    "```"
   ]
  }
 ],
 "metadata": {
  "kernelspec": {
   "display_name": ".venv",
   "language": "python",
   "name": "python3"
  },
  "language_info": {
   "codemirror_mode": {
    "name": "ipython",
    "version": 3
   },
   "file_extension": ".py",
   "mimetype": "text/x-python",
   "name": "python",
   "nbconvert_exporter": "python",
   "pygments_lexer": "ipython3",
   "version": "3.11.4"
  }
 },
 "nbformat": 4,
 "nbformat_minor": 2
}
