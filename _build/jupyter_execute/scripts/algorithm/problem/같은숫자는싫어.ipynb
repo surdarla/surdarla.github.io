{
 "cells": [
  {
   "cell_type": "markdown",
   "metadata": {},
   "source": [
    "# 같은 숫자는 싫어\n",
    "\n",
    "프로그래머스 ai 추천 문제\\\n",
    "영역:구현\\\n",
    "나의 예상 정답률:68.4%\\\n",
    "상승률:1.3%\n",
    "\n",
    "배열 arr가 주어집니다. \\\n",
    "배열 arr의 각 원소는 숫자 0부터 9까지로 이루어져 있습니다. \\\n",
    "이때, 배열 arr에서 연속적으로 나타나는 숫자는 하나만 남기고 전부 제거하려고 합니다. \\\n",
    "단, 제거된 후 남은 수들을 반환할 때는 배열 arr의 원소들의 순서를 유지해야 합니다. \n",
    "\n",
    "예를 들면,\\\n",
    "arr = [1, 1, 3, 3, 0, 1, 1] 이면 [1, 3, 0, 1] 을 return 합니다.\\\n",
    "arr = [4, 4, 4, 3, 3] 이면 [4, 3] 을 return 합니다.\\\n",
    "배열 arr에서 연속적으로 나타나는 숫자는 제거하고 남은 수들을 return 하는 solution 함수를 완성해 주세요.\n",
    "\n",
    "제한사항\\\n",
    "배열 arr의 크기 : 1,000,000 이하의 자연수\\\n",
    "배열 arr의 원소의 크기 : 0보다 크거나 같고 9보다 작거나 같은 정수"
   ]
  },
  {
   "cell_type": "markdown",
   "metadata": {},
   "source": [
    "## Python"
   ]
  },
  {
   "cell_type": "code",
   "execution_count": 1,
   "metadata": {},
   "outputs": [],
   "source": [
    "# input setting\n",
    "problem_num = \"같은숫자는싫어\"\n",
    "import os, sys\n",
    "\n",
    "path = os.getcwd() + f\"\\\\txt\\\\{problem_num}\" + \".txt\"\n",
    "sys.stdin = open(path, \"r\")\n",
    "arr = list(map(int, sys.stdin.readline().strip().split(\",\")))"
   ]
  },
  {
   "cell_type": "code",
   "execution_count": 2,
   "metadata": {},
   "outputs": [],
   "source": [
    "def solution(arr):\n",
    "    answer = []\n",
    "    for i in arr:\n",
    "        if len(answer) == 0:\n",
    "            answer.append(i)\n",
    "        elif answer[-1] != i:\n",
    "            answer.append(i)\n",
    "        else:\n",
    "            continue\n",
    "    return answer"
   ]
  },
  {
   "cell_type": "code",
   "execution_count": 3,
   "metadata": {
    "vscode": {
     "languageId": "javascript"
    }
   },
   "outputs": [
    {
     "data": {
      "text/plain": [
       "[4, 3]"
      ]
     },
     "execution_count": 3,
     "metadata": {},
     "output_type": "execute_result"
    }
   ],
   "source": [
    "solution(arr)"
   ]
  },
  {
   "cell_type": "markdown",
   "metadata": {},
   "source": [
    "어려울 것이 없음\n",
    "리스트에 맞는 것을 넣어주면서 리스트 마지막 요소와 비교해주면서 계속 넣어주면 됨\n",
    "경우의 수 체크하기"
   ]
  },
  {
   "cell_type": "markdown",
   "metadata": {},
   "source": [
    "## JavaScript"
   ]
  },
  {
   "cell_type": "code",
   "execution_count": 4,
   "metadata": {},
   "outputs": [
    {
     "data": {
      "text/plain": [
       "[4, 3]"
      ]
     },
     "execution_count": 4,
     "metadata": {},
     "output_type": "execute_result"
    }
   ],
   "source": [
    "# js2py로 자바스크립트 코드 확인\n",
    "import js2py\n",
    "\n",
    "js_code = \"\"\"\n",
    "function solution(arr){\n",
    "    var answer = [];\n",
    "    for(var i = 0;i<arr.length;i++){\n",
    "        if(answer.slice(-1)[0]!=arr[i]){\n",
    "            answer.push(arr[i]);\n",
    "        }\n",
    "    }\n",
    "    return answer;\n",
    "}\n",
    "\"\"\"\n",
    "my_code = js2py.eval_js(js_code)\n",
    "my_code(arr)"
   ]
  },
  {
   "cell_type": "markdown",
   "metadata": {},
   "source": [
    "Stack queue에 있는 문제이다. array answer를 사용해서 for 문을 돌아준다. answer의 마지막에 있는 것과 들어갈 것을 비교해서 같은 경우에는 넣지않고 else로 빠져나가고 맞는 경우에만 answer에 push(append python list)를 해준다. 어려울게 없다.\n",
    "\n",
    "다만 여기서 하나의 python jupyter notebook에서 js까지 확인해보기 위해서 `js2py`라는 라이브러리를 poetry add를 통해서 넣어주고 돌려봤다. 역시 파이썬에는 없는 것이 없다. 히히"
   ]
  },
  {
   "cell_type": "markdown",
   "metadata": {},
   "source": []
  }
 ],
 "metadata": {
  "kernelspec": {
   "display_name": ".venv",
   "language": "python",
   "name": "python3"
  },
  "language_info": {
   "codemirror_mode": {
    "name": "ipython",
    "version": 3
   },
   "file_extension": ".py",
   "mimetype": "text/x-python",
   "name": "python",
   "nbconvert_exporter": "python",
   "pygments_lexer": "ipython3",
   "version": "3.11.4"
  }
 },
 "nbformat": 4,
 "nbformat_minor": 2
}
