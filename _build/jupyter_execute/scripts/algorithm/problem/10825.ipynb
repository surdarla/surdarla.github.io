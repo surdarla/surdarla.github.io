{
 "cells": [
  {
   "cell_type": "markdown",
   "metadata": {},
   "source": [
    "# [10825 : 국영수](https://www.acmicpc.net/problem/10825)\n",
    "\n",
    "- 실버4\n",
    "- 정렬\n",
    "- 53.386%\n",
    "\n",
    "1. 국어 점수가 감소하는 순서로\n",
    "2. 국어 점수가 같으면 영어 점수가 증가하는 순서로\n",
    "3. 국어 점수와 영어 점수가 같으면 수학 점수가 감소하는 순서로\n",
    "4. 모든 점수가 같으면 이름이 사전 순으로 증가하는 순서로\n",
    "5. (단, ASCII 코드에서 대문자는 소문자보다 작으므로 사전순으로 앞에 온다.)"
   ]
  },
  {
   "cell_type": "markdown",
   "metadata": {},
   "source": [
    "## [solve](https://www.acmicpc.net/source/68655791)\n",
    "\n",
    "> Dictionary에서 sorted를 사용할 때 lambda안 요소에 -를 붙이면 역순이 된다는 것을 기억하자\n",
    "\n",
    "1. 우선 리스트에 딕셔너리들로 구성된 요소들을 정리해서 넣어준다\n",
    "2. 그렇게 되면 key를 활용해서 sorted를 사용할 수 있게 된다.\n",
    "3. 이걸로 마지막에 정리된 리스트를 순환하면서 name만 print해주면 된다."
   ]
  },
  {
   "cell_type": "code",
   "execution_count": 1,
   "metadata": {},
   "outputs": [],
   "source": [
    "# input setting\n",
    "problem_num = 10825\n",
    "import os, sys\n",
    "\n",
    "path = os.getcwd() + f\"\\\\txt\\\\{problem_num}\" + \".txt\"\n",
    "sys.stdin = open(path, \"r\")"
   ]
  },
  {
   "cell_type": "code",
   "execution_count": 2,
   "metadata": {},
   "outputs": [
    {
     "name": "stdout",
     "output_type": "stream",
     "text": [
      "12\n",
      "Donghyuk\n",
      "Sangkeun\n",
      "Sunyoung\n",
      "nsj\n",
      "Wonseob\n",
      "Sanghyun\n",
      "Sei\n",
      "Kangsoo\n",
      "Haebin\n",
      "Junkyu\n",
      "Soong\n",
      "Taewhan\n"
     ]
    }
   ],
   "source": [
    "n = int(sys.stdin.readline())\n",
    "print(n)\n",
    "\n",
    "record = []\n",
    "for _ in range(n):\n",
    "    name, k, e, m = sys.stdin.readline().split()\n",
    "    this = {\"name\": name, \"k\": int(k), \"e\": int(e), \"m\": int(m)}\n",
    "    record.append(this)\n",
    "sorted_data = sorted(record, key=lambda x: (-x[\"k\"], x[\"e\"], -x[\"m\"], x[\"name\"]))\n",
    "for i in sorted_data:\n",
    "    print(i[\"name\"])"
   ]
  },
  {
   "cell_type": "markdown",
   "metadata": {},
   "source": [
    "```{raw} html\n",
    "<script\n",
    "   type=\"text/javascript\"\n",
    "   src=\"https://utteranc.es/client.js\"\n",
    "   async=\"async\"\n",
    "   repo=\"surdarla/surdarla.github.io\"\n",
    "   issue-term=\"pathname\"\n",
    "   theme=\"github-light\"\n",
    "   label=\"💬 comment\"\n",
    "   crossorigin=\"anonymous\"\n",
    "/>\n",
    "```"
   ]
  }
 ],
 "metadata": {
  "kernelspec": {
   "display_name": ".venv",
   "language": "python",
   "name": "python3"
  },
  "language_info": {
   "codemirror_mode": {
    "name": "ipython",
    "version": 3
   },
   "file_extension": ".py",
   "mimetype": "text/x-python",
   "name": "python",
   "nbconvert_exporter": "python",
   "pygments_lexer": "ipython3",
   "version": "3.11.4"
  }
 },
 "nbformat": 4,
 "nbformat_minor": 2
}
