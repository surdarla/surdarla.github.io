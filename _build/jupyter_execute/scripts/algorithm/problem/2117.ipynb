{
 "cells": [
  {
   "cell_type": "markdown",
   "metadata": {},
   "source": [
    "# 2117 : 원형 댄스\n",
    "\n",
    "- [백준 url](https://www.acmicpc.net/problem/2117)\n",
    "- 실버 1\n",
    "  \n",
    "| 시간제한 | 메모리제한 | 정답비율 |\n",
    "| :------: | :--------: | :------: |\n",
    "|   2초    |   128MB    |  63.918%   |\n",
    "\n",
    "## in and out\n",
    "\n",
    "- input : n\n",
    "- output : 최소 자리바꿈 횟수\n",
    "\n",
    "N(1 ≤ n ≤ 32767)명의 사람들이 잔치에서 춤을 추게 되었다.    \n",
    "처음에는 1번부터 N번까지의 사람들이 차례대로, 둥글게 손을 잡고 서 있다. \n",
    "그리고 춤이 끝날 때에는 이 순서가 반대(거꾸로, 뒤집힌)가 되어야 한다.   \n",
    "물론 사람들이 모두 손을 놓고 다시 자리를 잡으면 되겠지만, 그렇게 하면 둥그런 모양이 깨지게 된다.    \n",
    "따라서 자리를 바꿀 때에는, 서로 손을 잡고 있는 두 명의 사람만 자리를 바꿀 수 있다.\n",
    "\n",
    "예를 들어 n=6인 경우를 보자.    \n",
    "맨 처음의 순서는 (1, 2, 3, 4, 5, 6)이 된다. \n",
    "둥글게 서 있기 때문에 1번과 6번도 손을 잡고 있다. 이제 (1, 2, 3, 4, 5, 6) → (6, 2, 3, 4, 5, 1) → (2, 6, 3, 4, 5, 1) → (1, 6, 3, 4, 5, 2) → (1, 6, 3, 5, 4, 2) → (1, 6, 5, 3, 4, 2) → (1, 6, 5, 4, 3, 2)의 순서대로 바꾸면 자리가 반대가 된다.   \n",
    "(6, 5, 4, 3, 2, 1)이 되는 게 맞겠지만, 어차피 둥글게 서 있기 때문에 (1, 6, 5, 4, 3, 2)와 같은 경우도 순서는 반대가 되는 게 맞다.\n",
    "\n",
    "가급적이면 자리를 최소로 바꾸려고 한다. 최소로 자리를 바꾸려면 어떻게 해야 할까?"
   ]
  },
  {
   "cell_type": "code",
   "execution_count": 1,
   "metadata": {},
   "outputs": [],
   "source": [
    "# input setting\n",
    "problem_num = 2117\n",
    "import os, sys\n",
    "path = os.getcwd() + f'\\\\txt\\\\{problem_num}'  + '.txt'\n",
    "sys.stdin = open(path,'r')\n",
    "\n",
    "n = int(sys.stdin.readline())"
   ]
  },
  {
   "cell_type": "code",
   "execution_count": 2,
   "metadata": {},
   "outputs": [
    {
     "name": "stdout",
     "output_type": "stream",
     "text": [
      "6\n"
     ]
    }
   ],
   "source": [
    "def circle_dance(n): #n 1~dd\n",
    "    if n == 1 or n == 2:\n",
    "        return 0\n",
    "    elif n == 3:\n",
    "        return 1\n",
    "    else:\n",
    "        a = int(n/2)\n",
    "        b = n - int(n/2)\n",
    "        a_ = [x+1 for x in range(a-1)]\n",
    "        b_ = [x+1 for x in range(b-1)]\n",
    "        c = sum(a_) + sum(b_)\n",
    "        return c\n",
    "    \n",
    "result = circle_dance(n)\n",
    "print(result)    "
   ]
  },
  {
   "cell_type": "markdown",
   "metadata": {},
   "source": [
    "- [참고](https://velog.io/@beclever/C-%EB%B0%B1%EC%A4%80-2117%EB%B2%88-%EC%9B%90%ED%98%95-%EB%8C%84%EC%8A%A4)\n",
    "\n",
    "실제로 예시들을 구해보고 그 안에서 더 잘게 자를 수 있는 덩어리를 생각할 수 있어야할 것 으로 보인다. 결국 이 참고도 문제안의 문제를 점화식으로 나타내서 편하게 풀 수 있게 된 것."
   ]
  },
  {
   "cell_type": "markdown",
   "metadata": {},
   "source": [
    "```{raw} html\n",
    "<script\n",
    "   type=\"text/javascript\"\n",
    "   src=\"https://utteranc.es/client.js\"\n",
    "   async=\"async\"\n",
    "   repo=\"surdarla/surdarla.github.io\"\n",
    "   issue-term=\"pathname\"\n",
    "   theme=\"github-light\"\n",
    "   label=\"💬 comment\"\n",
    "   crossorigin=\"anonymous\"\n",
    "/>\n",
    "```"
   ]
  }
 ],
 "metadata": {
  "kernelspec": {
   "display_name": ".venv",
   "language": "python",
   "name": "python3"
  },
  "language_info": {
   "codemirror_mode": {
    "name": "ipython",
    "version": 3
   },
   "file_extension": ".py",
   "mimetype": "text/x-python",
   "name": "python",
   "nbconvert_exporter": "python",
   "pygments_lexer": "ipython3",
   "version": "3.11.4"
  }
 },
 "nbformat": 4,
 "nbformat_minor": 2
}
