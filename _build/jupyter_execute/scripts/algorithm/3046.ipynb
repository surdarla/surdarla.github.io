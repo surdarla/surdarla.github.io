{
 "cells": [
  {
   "cell_type": "markdown",
   "metadata": {},
   "source": [
    "# 3046 : R2\n",
    "\n",
    "## input\n",
    "\n",
    "두 숫자 R1과 R2가 있을 때, 두 수의 평균 S는 (R1+R2)/2와 같다. \n",
    "상근이는 정인이 생일 선물로 두 숫자 R1과 R2를 주려고 한다. \n",
    "생일 파티에서 상근이는 정인이에게 이 두 숫자를 말해주고, 정인이는 이 숫자를 받아 적는다. \n",
    "그리고 나서 기쁜 마음으로 1년동안 이 숫자를 외우면서 산다.\n",
    "\n",
    "상근이는 R1과 R2를 엄청난 고민 끝에 정했다. \n",
    "작년에는 R1과 R2를 까먹어서 아무 숫자나 정해서 주었기 때문에, \n",
    "올해는 까먹지 않기 위해서 평균 S도 같이 기억하려고 한다.\n",
    "\n",
    "오늘은 정인이 생일이다. \n",
    "5분 후에 상근이는 생일 선물로 두 숫자 R1과 R2를 말해주어야 하지만, \n",
    "안타깝게도 R2를 까먹고 말았다. 하지만 R1과 S는 기억하고 있다!\n",
    "\n",
    "상근이를 도와 R2가 몇 인지 구하는 프로그램을 작성하시오.\n",
    "\n",
    "첫째 줄에 두 정수 R1과 S가 주어진다. \n",
    "두 수는 -1000보다 크거나 같고, 1000보다 작거나 같다."
   ]
  },
  {
   "cell_type": "code",
   "execution_count": 17,
   "metadata": {},
   "outputs": [
    {
     "name": "stdout",
     "output_type": "stream",
     "text": [
      "input : 11 15, input type : <class 'str'>\n",
      "19\n"
     ]
    }
   ],
   "source": [
    "# input setting\n",
    "problem_num = 3046\n",
    "\n",
    "import os, sys\n",
    "path = os.getcwd() + f'\\\\txt\\\\{problem_num}'  + '.txt'\n",
    "sys.stdin = open(path,'r')\n",
    "input = sys.stdin.readlines()[0]\n",
    "print(f'input : {input}, input type : {type(input)}')\n",
    "# solve problem\n",
    "r1,s = map(int,input.split())\n",
    "r2 = int(2*s - r1)\n",
    "print(r2)"
   ]
  },
  {
   "cell_type": "markdown",
   "metadata": {},
   "source": [
    "## solving issue\n",
    "\n",
    "1. 그냥 방정식이다."
   ]
  },
  {
   "cell_type": "markdown",
   "metadata": {},
   "source": []
  }
 ],
 "metadata": {
  "kernelspec": {
   "display_name": ".venv",
   "language": "python",
   "name": "python3"
  },
  "language_info": {
   "codemirror_mode": {
    "name": "ipython",
    "version": 3
   },
   "file_extension": ".py",
   "mimetype": "text/x-python",
   "name": "python",
   "nbconvert_exporter": "python",
   "pygments_lexer": "ipython3",
   "version": "3.11.4"
  }
 },
 "nbformat": 4,
 "nbformat_minor": 2
}