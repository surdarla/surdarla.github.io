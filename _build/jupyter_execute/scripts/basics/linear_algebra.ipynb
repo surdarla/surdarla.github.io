{
 "cells": [
  {
   "attachments": {},
   "cell_type": "markdown",
   "metadata": {},
   "source": [
    "# Linear algebra summary"
   ]
  },
  {
   "attachments": {},
   "cell_type": "markdown",
   "metadata": {},
   "source": [
    "(linearity)=\n",
    "## what is linearity\n",
    "\n",
    "선형대수학, 선형회귀 등 여러 곳에서 선형성이란 말이 나오는데 제대로 이해하고 출발해보자.\n",
    "\n",
    "선형성이란 무엇일까? 어떤 선형 맵 또는 선형 함수 $f(x)$이 선형성을 가지고 있다라고 표현하기 위해서는 아래의 두 특성을 만족해야한다.\n",
    "\n",
    "1. 가산성 Additivity : $f(x+y) = f(x) + f(y)$\n",
    "2. 동차성 Homogeneity : $f(ax) = af(x)$\n",
    "\n"
   ]
  },
  {
   "cell_type": "markdown",
   "metadata": {},
   "source": []
  }
 ],
 "metadata": {
  "language_info": {
   "name": "python"
  }
 },
 "nbformat": 4,
 "nbformat_minor": 2
}
