{
 "cells": [
  {
   "attachments": {},
   "cell_type": "markdown",
   "metadata": {},
   "source": [
    "# join merge\n",
    "\n",
    "- join\n",
    "    - join은 `인덱스`를 기준으로 데이터프레임을 결합합니다.\n",
    "    - 기본적으로 join은 왼쪽 데이터프레임과 오른쪽 데이터프레임의 인덱스를 비교하여 결합합니다.\n",
    "    - join은 데이터프레임의 인덱스가 동일한 경우에만 작동합니다. - 기본적으로 reset_index나 set_index 특정 열을 선행해야한다.\n",
    "    - join은 내부 조인(Inner Join)을 수행합니다. 즉, 공통된 인덱스 값만을 가진 행을 반환합니다.\n",
    "    \n",
    "- merge\n",
    "    - merge는 특정 `열(또는 여러 열)`을 기준으로 데이터프레임을 결합합니다.\n",
    "    - merge는 왼쪽 데이터프레임과 오른쪽 데이터프레임의 열을 비교하여 결합합니다.\n",
    "    - merge는 데이터프레임의 인덱스가 동일하지 않아도 작동합니다.\n",
    "    - merge는 다양한 조인 유형(Inner Join, Left Join, Right Join, Outer Join 등)을 지원합니다. 기본적으로는 내부 조인(Inner Join)을 수행하며, how 매개변수를 사용하여 다른 조인 유형을 지정할 수 있습니다."
   ]
  },
  {
   "attachments": {},
   "cell_type": "markdown",
   "metadata": {},
   "source": [
    "# 정규화 표준화\n",
    "\n",
    "## 정규화  normalization\n",
    "\n",
    "\n",
    "\n",
    "## 표준화 standardization"
   ]
  }
 ],
 "metadata": {
  "language_info": {
   "name": "python"
  },
  "orig_nbformat": 4
 },
 "nbformat": 4,
 "nbformat_minor": 2
}
