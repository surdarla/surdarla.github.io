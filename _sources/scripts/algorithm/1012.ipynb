{
 "cells": [
  {
   "cell_type": "markdown",
   "metadata": {},
   "source": [
    "# 1012 : 유기농 배추\n",
    "\n",
    "- [백준 url](https://www.acmicpc.net/problem/1012)\n",
    "- 실버 1\n",
    "  \n",
    "| 시간제한 | 메모리제한 | 정답비율 |\n",
    "| :------: | :--------: | :------: |\n",
    "|   1초    |   512MB    |  37.830%   |\n",
    "\n",
    "## in and out\n",
    "\n",
    "- in : \n",
    "  - 테스트 케이스의 개수 t, \n",
    "  - 다음 줄부터 각각의 테스트 게이스에 대해 첫째줄에는 배추를 심은 배추밭의 가로길이 M, 세로길이 N, 배추위치의 개수 K. \n",
    "  - k 줄 만큼 위치 x,y가 주어진다. (두 배추의 위치가 같은 경우는 없다.)\n",
    "- out : 각 테스트 케이스에 대해 필요한 최소 배추흰지렁임 마리수 출력\n",
    "\n",
    "차세대 영농인 한나는 강원도 고랭지에서 유기농 배추를 재배하기로 하였다. 농약을 쓰지 않고 배추를 재배하려면 배추를 해충으로부터 보호하는 것이 중요하기 때문에, 한나는 해충 방지에 효과적인 배추흰지렁이를 구입하기로 결심한다. 이 지렁이는 배추근처에 서식하며 해충을 잡아 먹음으로써 배추를 보호한다. 특히, 어떤 배추에 배추흰지렁이가 한 마리라도 살고 있으면 이 지렁이는 인접한 다른 배추로 이동할 수 있어, 그 배추들 역시 해충으로부터 보호받을 수 있다. **한 배추의 상하좌우 네 방향에 다른 배추가 위치한 경우에 서로 인접**해있는 것이다.\n",
    "\n",
    "한나가 배추를 재배하는 땅은 고르지 못해서 배추를 군데군데 심어 놓았다. 배추들이 모여있는 곳에는 배추흰지렁이가 한 마리만 있으면 되므로 서로 인접해있는 배추들이 몇 군데에 퍼져있는지 조사하면 총 몇 마리의 지렁이가 필요한지 알 수 있다. 예를 들어 배추밭이 아래와 같이 구성되어 있으면 최소 5마리의 배추흰지렁이가 필요하다. 0은 배추가 심어져 있지 않은 땅이고, 1은 배추가 심어져 있는 땅을 나타낸다.\n",
    "\n",
    "### 해설\n",
    "\n",
    "1. 테스트 케이스의 갯수 만큼 아웃풋이 나와야한다. 3개가 나오는 지점이 새로운 케이스 지점\n",
    "2. 배추들이 뭉쳐져 있으면 그것은 하나의 덩어리라서 한 마리의 지렁이만 있으면 된다.\n",
    "3. 결국 시각적으로 뭉쳐져 있는 배추덩어리를 어떻게 규정하고 함수화 할 것인가가 문제이다."
   ]
  },
  {
   "cell_type": "code",
   "execution_count": 32,
   "metadata": {},
   "outputs": [
    {
     "name": "stdout",
     "output_type": "stream",
     "text": [
      "1 3\n",
      "1 3\n"
     ]
    }
   ],
   "source": [
    "# input setting\n",
    "problem_num = 1012\n",
    "import os, sys\n",
    "path = os.getcwd() + f'\\\\txt\\\\{problem_num}'  + '.txt'\n",
    "sys.stdin = open(path,'r')\n",
    "\n",
    "t = int(sys.stdin.readline())\n",
    "for _ in range(t):\n",
    "    m,n,k = map(int, sys.stdin.readline().strip().split())\n",
    "    cab_list = []\n",
    "    mask = [[0 for _ in range(m)] for _ in range(n)]\n",
    "    for _ in range(k):\n",
    "        x,y = map(int,sys.stdin.readline().split())\n",
    "        cab_list.append([x,y])        \n",
    "        cab_sort = sorted(cab_list,key=lambda x : x[0])\n",
    "    \n",
    "    for cab in cab_sort:\n",
    "        a,b = cab[0],cab[1]\n",
    "        if [a+1,b] in cab_list:\n",
    "            mask[a+1,b] = 1\n",
    "        elif [a,b+1] in cab_list:\n",
    "            \n",
    "\n",
    "\n",
    "    "
   ]
  },
  {
   "cell_type": "markdown",
   "metadata": {},
   "source": [
    "- 공간에 대한 byte화 하는 방법\n",
    "- 어짜피 이진 데이터\n",
    "- 최소 테스트 케이스가 뭐냐"
   ]
  }
 ],
 "metadata": {
  "kernelspec": {
   "display_name": ".venv",
   "language": "python",
   "name": "python3"
  },
  "language_info": {
   "codemirror_mode": {
    "name": "ipython",
    "version": 3
   },
   "file_extension": ".py",
   "mimetype": "text/x-python",
   "name": "python",
   "nbconvert_exporter": "python",
   "pygments_lexer": "ipython3",
   "version": "3.11.4"
  },
  "orig_nbformat": 4
 },
 "nbformat": 4,
 "nbformat_minor": 2
}
