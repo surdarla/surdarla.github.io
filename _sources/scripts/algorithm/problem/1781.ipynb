{
 "cells": [
  {
   "cell_type": "markdown",
   "metadata": {},
   "source": [
    "# 1781 : 컵라면\n",
    "\n",
    "```{article-info}\n",
    ":avatar: /images/logos/my_favi.png\n",
    ":avatar-alt: supposed to be surdarla logo\n",
    ":avatar-link: https://surdarla.github.io\n",
    ":avatar-outline: muted\n",
    ":author: Surdarla\n",
    ":date: Nov 27 Mon 13:18, 2023\n",
    ":read-time: \"{sub-ref}`wordcount-minutes` min read\"\n",
    ":class-container: sd-p-2 sd-outline-muted sd-rounded-1\n",
    "```\n",
    "\n",
    "- <img src=\"https://d2gd6pc034wcta.cloudfront.net/tier/14.svg\" width=\"15\" height=\"15\"/> 골드 2\n",
    "\n",
    "| 시간제한 | 메모리제한 | 정답비율 |\n",
    "|:----:|:-----:|:----:|\n",
    "|  2초  | 256MB | 32%  |\n",
    "\n",
    "## 문제\n",
    "\n",
    "상욱 조교는 동호에게 N개의 문제를 주고서, 각각의 문제를 풀었을 때 컵라면을 몇 개 줄 것인지 제시 하였다. 하지만 동호의 찌를듯한 자신감에 소심한 상욱 조교는 각각의 문제에 대해 데드라인을 정하였다.\n",
    "\n",
    "|   문제 번호   | 1 | 2 | 3 | 4 | 5 | 6 | 7 |\n",
    "|:---------:|:-:|:-:|:-:|:-:|:-:|:-:|:-:|\n",
    "| **데드라인**  | 1 | 1 | 3 | 3 | 2 | 2 | 6 |\n",
    "| **컵라면** 수 | 6 | 7 | 2 | 1 | 4 | 5 | 1 |\n",
    "\n",
    "위와 같은 상황에서 동호가 2, 6, 3, 1, 7, 5, 4 순으로 숙제를 한다면 2, 6, 3, 7번 문제를 시간 내에 풀어 총 15개의 컵라면을 받을 수 있다.\n",
    "\n",
    "문제는 동호가 받을 수 있는 최대 컵라면 수를 구하는 것이다. 위의 예에서는 15가 최대이다.\n",
    "\n",
    "- 문제를 푸는데는 단위 시간 1이 걸리며, \n",
    "- 각 문제의 데드라인은 N이하의 자연수이다. \n",
    "- 또, 각 문제를 풀 때 받을 수 있는 컵라면 수와 최대로 받을 수 있는 컵라면 수는 모두 $2^{31}$보다 작은 자연수이다.\n",
    "\n",
    "## input\n",
    "\n",
    "첫 줄에 숙제의 개수 N (1 ≤ N ≤ 200,000)이 들어온다. 다음 줄부터 N+1번째 줄까지 i+1번째 줄에 i번째 문제에 대한 데드라인과 풀면 받을 수 있는 컵라면 수가 공백으로 구분되어 입력된다.\n",
    "\n",
    "## output\n",
    "\n",
    "첫 줄에 동호가 받을 수 있는 최대 컵라면 수를 출력한다."
   ]
  },
  {
   "cell_type": "markdown",
   "metadata": {},
   "source": [
    "## think\n",
    "\n",
    "1. 숫자가 지나간다 n까지\n",
    "2. 해당 숫자일때 최댓값을 뽑아내고 나머지는 버린다.\n",
    "3. 우선 먼저 sorting 을 하는 것도 나쁘지 않을 것으로 보인다.\n",
    "4. "
   ]
  },
  {
   "cell_type": "markdown",
   "metadata": {},
   "source": [
    "## python "
   ]
  },
  {
   "cell_type": "code",
   "execution_count": 12,
   "metadata": {},
   "outputs": [],
   "source": [
    "import sys, os\n",
    "\n",
    "problem_num = \"1781\"\n",
    "\n",
    "path = os.getcwd() + f\"\\\\txt\\\\{problem_num}\" + \".txt\"\n",
    "sys.stdin = open(path, \"r\")\n",
    "input = sys.stdin.readline"
   ]
  },
  {
   "cell_type": "code",
   "execution_count": 13,
   "metadata": {},
   "outputs": [],
   "source": [
    "# n = int(input())\n",
    "# dp = [0 for _ in range(n + 1)]  # max cup for position = dead\n",
    "# for i in range(1, n + 1):\n",
    "#     dead, cup = map(int, input().split())\n",
    "#     dp[dead] = max(dp[dead], cup)\n",
    "# print(sum(dp))"
   ]
  },
  {
   "cell_type": "markdown",
   "metadata": {},
   "source": [
    "한 데드라인에 여러 문제가 있을 수 있음\n",
    ": 처음에 시도했던 방식은 각 데드라인에 대해 하나의 문제만 고려했다. 데드라인별로 가장 많은 컵라면을 주는 하나의 문제만을 max로 집어넣고 저장하는 방식이었다. 하지만 실제로는 한 데드라인에 여러 문제를 해결할 수도 있다. 데드라인이 3인 문제가 여러 개가 있고, 1이나 2에 문제들이 없는 경우였드면 3에 여러 문제를 한번에 풀 수도 있다.\n",
    "\n",
    "최적의 조합을 찾이 못함\n",
    ": 각 데드라인마다 가능한 모든 문제 중에서 가장 많은 컵라면을 주는 문제들을 선택해야한다. 하지만 내 원래 코드는 각 데드라인 별로 단 하나의 문제만 고려하므로, 최적의 조합을 찾지 못한다는 치명적인 구녕이 있다.\n",
    "\n",
    "그리디 알고리즘 부재\n",
    ": 각 단계별로 로컬 최적해를 선택함으로써 전역 최적해에 도달할 수 있는 그리디 알고리즘을 활용하지 못했다. 우선순위큐(힙)을 사용해 그리디 알고리즘을 만들어내야한다.\n"
   ]
  },
  {
   "cell_type": "code",
   "execution_count": 14,
   "metadata": {},
   "outputs": [
    {
     "name": "stdout",
     "output_type": "stream",
     "text": [
      "15\n"
     ]
    }
   ],
   "source": [
    "import heapq\n",
    "\n",
    "n = int(input())\n",
    "tasks = []\n",
    "for _ in range(n):\n",
    "    dead, cup = map(int, input().split())\n",
    "    tasks.append((dead, cup))\n",
    "tasks.sort()\n",
    "heap = []\n",
    "for d, c in tasks:\n",
    "    heapq.heappush(heap, c)\n",
    "    if len(heap) > d:\n",
    "        heapq.heappop(heap)\n",
    "print(sum(heap))"
   ]
  },
  {
   "cell_type": "markdown",
   "metadata": {},
   "source": [
    "```{raw} html\n",
    "<script\n",
    "   type=\"text/javascript\"\n",
    "   src=\"https://utteranc.es/client.js\"\n",
    "   async=\"async\"\n",
    "   repo=\"surdarla/surdarla.github.io\"\n",
    "   issue-term=\"pathname\"\n",
    "   theme=\"github-light\"\n",
    "   label=\"💬 comment\"\n",
    "   crossorigin=\"anonymous\"\n",
    "/>\n",
    "```"
   ]
  }
 ],
 "metadata": {
  "kernelspec": {
   "display_name": ".venv",
   "language": "python",
   "name": "python3"
  },
  "language_info": {
   "codemirror_mode": {
    "name": "ipython",
    "version": 3
   },
   "file_extension": ".py",
   "mimetype": "text/x-python",
   "name": "python",
   "nbconvert_exporter": "python",
   "pygments_lexer": "ipython3",
   "version": "3.11.4"
  }
 },
 "nbformat": 4,
 "nbformat_minor": 2
}
