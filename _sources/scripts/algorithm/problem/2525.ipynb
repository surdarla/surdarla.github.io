{
 "cells": [
  {
   "cell_type": "markdown",
   "metadata": {},
   "source": [
    "# 2525 : 오븐 시계\n",
    "\n",
    "- [문제url](https://www.acmicpc.net/problem/2525)\n",
    "- 브론즈 3\n",
    "\n",
    "| 시간 제한 | 메모리 제한 | 정답 비율 |\n",
    "| :---:| :---:| :---:|\n",
    "|1초 | 128MB | 38.662%|\n",
    "\n",
    "## input\n",
    "\n",
    "적당한 양의 오리 훈제 재료를 인공지능 오븐에 넣으면 된다.   \n",
    "그러면 인공지능 오븐은 오븐구이가 끝나는 시간을 분 단위로 자동적으로 계산한다.  \n",
    "요리가 끝나는 시각을 알려 주는 디지털 시계가 있다.  \n",
    "\n",
    "훈제오리구이를 시작하는 시각과 오븐구이를 하는 데 필요한 시간이 분단위로 주어졌을 때,   \n",
    "오븐구이가 끝나는 시각을 계산하는 프로그램을 작성하시오.    \n",
    "\n",
    "- input : 시작시간(시 빈칸 분),\\n, 필요시간(분단위)\n",
    "- output : 끝나는 시각"
   ]
  },
  {
   "cell_type": "code",
   "execution_count": 41,
   "metadata": {},
   "outputs": [
    {
     "name": "stdout",
     "output_type": "stream",
     "text": [
      "14 50\n"
     ]
    }
   ],
   "source": [
    "# input setting\n",
    "problem_num = 2525\n",
    "import os, sys\n",
    "path = os.getcwd() + f'\\\\txt\\\\{problem_num}'  + '.txt'\n",
    "sys.stdin = open(path,'r')\n",
    "\n",
    "start_time = list(map(int,sys.stdin.readline().split()))\n",
    "need_time = int(sys.stdin.readline().strip())\n",
    "\n",
    "# def\n",
    "import datetime\n",
    "def oven_clock(start, need):\n",
    "    start_datetime = datetime.datetime(2023,1,1,hour=start[0], minute=start[1])\n",
    "    spend_datetime = datetime.timedelta(minutes=need)\n",
    "    output_datetime = start_datetime + spend_datetime\n",
    "    return  output_datetime.hour, output_datetime.minute\n",
    "\n",
    "a,b  = oven_clock(start_time, need_time)\n",
    "print(a,b)"
   ]
  },
  {
   "cell_type": "markdown",
   "metadata": {},
   "source": [
    "## solve : [datetime module](https://docs.python.org/ko/3/library/datetime.html?highlight=datetime#module-datetime)\n",
    "\n",
    "```python\n",
    "today = datetime.now(tz=timezone(timedelta(hours=9))).strftime(\"%Y%m%d\")\n",
    "```\n",
    "\n",
    "```{py:function} class datetime.timedelta(days=0, seconds=0, microseconds=0, milliseconds=0, minutes=0, hours=0, weeks=0)\n",
    "\n",
    "timedelta 객체는 두 날짜나 시간의 차이인 기간을 나타낸다  \n",
    "모든 인자는 선택적이며 기본값은 0입니다. 인자는 정수나 부동 소수점 수일 수 있으며, 양수나 음수일 수 있습니다.\n",
    "\n",
    "```\n"
   ]
  },
  {
   "cell_type": "markdown",
   "metadata": {},
   "source": [
    "```{raw} html\n",
    "<script\n",
    "   type=\"text/javascript\"\n",
    "   src=\"https://utteranc.es/client.js\"\n",
    "   async=\"async\"\n",
    "   repo=\"surdarla/surdarla.github.io\"\n",
    "   issue-term=\"pathname\"\n",
    "   theme=\"github-light\"\n",
    "   label=\"💬 comment\"\n",
    "   crossorigin=\"anonymous\"\n",
    "/>\n",
    "```"
   ]
  }
 ],
 "metadata": {
  "kernelspec": {
   "display_name": ".venv",
   "language": "python",
   "name": "python3"
  },
  "language_info": {
   "codemirror_mode": {
    "name": "ipython",
    "version": 3
   },
   "file_extension": ".py",
   "mimetype": "text/x-python",
   "name": "python",
   "nbconvert_exporter": "python",
   "pygments_lexer": "ipython3",
   "version": "3.11.4"
  },
  "orig_nbformat": 4
 },
 "nbformat": 4,
 "nbformat_minor": 2
}
