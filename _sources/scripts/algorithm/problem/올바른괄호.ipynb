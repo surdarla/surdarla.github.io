{
 "cells": [
  {
   "cell_type": "markdown",
   "metadata": {},
   "source": [
    "# [올바른 괄호](https://school.programmers.co.kr/learn/courses/30/lessons/12909)\n",
    "\n",
    "- stack/[queue](queue)\n",
    "\n",
    "문제 설명\n",
    "\n",
    "괄호가 바르게 짝지어졌다는 것은 '(' 문자로 열렸으면 반드시 짝지어서 ')' 문자로 닫혀야 한다는 뜻입니다. \n",
    "\n",
    "예를 들어\n",
    "\"()()\" 또는 \"(())()\" 는 올바른 괄호입니다.  \n",
    "\")()(\" 또는 \"(()(\" 는 올바르지 않은 괄호입니다.   \n",
    "'(' 또는 ')' 로만 이루어진 문자열 s가 주어졌을 때, 문자열 s가 올바른 괄호이면 true를 return 하고, 올바르지 않은 괄호이면 false를 return 하는 solution 함수를 완성해 주세요."
   ]
  },
  {
   "cell_type": "code",
   "execution_count": 1,
   "metadata": {},
   "outputs": [
    {
     "name": "stdout",
     "output_type": "stream",
     "text": [
      "True\n"
     ]
    }
   ],
   "source": [
    "test_input = \"(()())()\"\n",
    "test_output = True\n",
    "\n",
    "\n",
    "def solution(s):\n",
    "    n = len(s)\n",
    "\n",
    "    # 뻔한 조건들 거르기\n",
    "    if (s[0] == \")\") or (n % 2 != 0) or (s[-1] == \"(\"):\n",
    "        return False\n",
    "\n",
    "    # stack에 넣어주면 효율성 안나와서 count로 전환\n",
    "    left_count = 0\n",
    "    for c in s:\n",
    "        if c == \"(\":\n",
    "            left_count += 1\n",
    "        else:\n",
    "            if left_count == 0:\n",
    "                return False\n",
    "            left_count -= 1\n",
    "\n",
    "    return left_count == 0\n",
    "\n",
    "\n",
    "print(solution(test_input))"
   ]
  },
  {
   "cell_type": "markdown",
   "metadata": {},
   "source": [
    "처음엔 실제 [deque](deque)을 사용해서 popleft를 사용해서 비교를 해줬는데 이렇게 하면 `효율성테스트2`에서 자꾸 시간초과가 나서 count를 해주는 방식으로 바꿈. 아무래도 stack append, popleft, pop하는 방식보다는 그냥 한번 돌면서 숫자노름하는 것이 시간적으로는 훨씬 이득일 것 같긴하다.\n"
   ]
  },
  {
   "cell_type": "markdown",
   "metadata": {},
   "source": [
    "```{raw} html\n",
    "<script\n",
    "   type=\"text/javascript\"\n",
    "   src=\"https://utteranc.es/client.js\"\n",
    "   async=\"async\"\n",
    "   repo=\"surdarla/surdarla.github.io\"\n",
    "   issue-term=\"pathname\"\n",
    "   theme=\"github-light\"\n",
    "   label=\"💬 comment\"\n",
    "   crossorigin=\"anonymous\"\n",
    "/>\n",
    "```"
   ]
  }
 ],
 "metadata": {
  "kernelspec": {
   "display_name": ".venv",
   "language": "python",
   "name": "python3"
  },
  "language_info": {
   "codemirror_mode": {
    "name": "ipython",
    "version": 3
   },
   "file_extension": ".py",
   "mimetype": "text/x-python",
   "name": "python",
   "nbconvert_exporter": "python",
   "pygments_lexer": "ipython3",
   "version": "3.11.4"
  }
 },
 "nbformat": 4,
 "nbformat_minor": 2
}
