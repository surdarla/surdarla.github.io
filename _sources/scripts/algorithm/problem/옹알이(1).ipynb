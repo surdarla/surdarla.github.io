{
 "cells": [
  {
   "cell_type": "markdown",
   "metadata": {},
   "source": [
    "# 옹알이(1)\n",
    "\n",
    "프로그래머스\n",
    "\n",
    "머쓱이는 태어난 지 6개월 된 조카를 돌보고 있습니다. \\\n",
    "조카는 아직 \"aya\", \"ye\", \"woo\", \"ma\" 네 가지 발음을 \\\n",
    "`최대 한 번씩 사용해 조합한(이어 붙인) 발음`밖에 하지 못합니다. \\\n",
    "문자열 배열 babbling이 매개변수로 주어질 때, \\\n",
    "머쓱이의 조카가 발음할 수 있는 단어의 개수를 return하도록 \\\n",
    "solution 함수를 완성해주세요.\n"
   ]
  },
  {
   "cell_type": "code",
   "execution_count": 120,
   "metadata": {},
   "outputs": [],
   "source": [
    "# input setting\n",
    "problem_num = '옹알이(1)'\n",
    "\n",
    "import os, sys\n",
    "path = os.getcwd() + f'\\\\txt\\\\{problem_num}'  + '.txt'\n",
    "sys.stdin = open(path,'r')\n",
    "babbling = sys.stdin.readline().strip().split(',')\n"
   ]
  },
  {
   "cell_type": "code",
   "execution_count": 158,
   "metadata": {},
   "outputs": [
    {
     "name": "stdout",
     "output_type": "stream",
     "text": [
      "3\n"
     ]
    }
   ],
   "source": [
    "def solution(babbling):\n",
    "    from itertools import permutations as per\n",
    "    answer = 0\n",
    "    possibles = [\"aya\", \"ye\", \"woo\", \"ma\"]\n",
    "    for i in range(2,5):\n",
    "        possibles.extend(''.join(x).strip() for x in per([\"aya\", \"ye\", \"woo\", \"ma\"],i))\n",
    "    for i in babbling:\n",
    "        if i.strip() in possibles:\n",
    "            answer += 1\n",
    "    return answer\n",
    "\n",
    "print(solution(babbling))"
   ]
  },
  {
   "cell_type": "markdown",
   "metadata": {},
   "source": [
    "- itertools.permutations\n",
    "- strip\n"
   ]
  },
  {
   "cell_type": "markdown",
   "metadata": {},
   "source": [
    "```{raw} html\n",
    "<script\n",
    "   type=\"text/javascript\"\n",
    "   src=\"https://utteranc.es/client.js\"\n",
    "   async=\"async\"\n",
    "   repo=\"surdarla/surdarla.github.io\"\n",
    "   issue-term=\"pathname\"\n",
    "   theme=\"github-light\"\n",
    "   label=\"💬 comment\"\n",
    "   crossorigin=\"anonymous\"\n",
    "/>\n",
    "```"
   ]
  }
 ],
 "metadata": {
  "kernelspec": {
   "display_name": ".venv",
   "language": "python",
   "name": "python3"
  },
  "language_info": {
   "codemirror_mode": {
    "name": "ipython",
    "version": 3
   },
   "file_extension": ".py",
   "mimetype": "text/x-python",
   "name": "python",
   "nbconvert_exporter": "python",
   "pygments_lexer": "ipython3",
   "version": "3.11.4"
  },
  "orig_nbformat": 4
 },
 "nbformat": 4,
 "nbformat_minor": 2
}
