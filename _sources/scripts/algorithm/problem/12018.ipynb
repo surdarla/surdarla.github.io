{
 "cells": [
  {
   "cell_type": "markdown",
   "metadata": {},
   "source": [
    "# 12018 : Yonsei TOTO\n",
    "\n",
    "```{article-info}\n",
    ":avatar: /images/logos/my_favi.png\n",
    ":avatar-alt: supposed to be surdarla logo\n",
    ":avatar-link: https://surdarla.github.io\n",
    ":avatar-outline: muted\n",
    ":author: Surdarla\n",
    ":date: Nov 28 Tue 09:21, 2023\n",
    ":read-time: \"{sub-ref}`wordcount-minutes` min read\"\n",
    ":class-container: sd-p-2 sd-outline-muted sd-rounded-1\n",
    "```\n",
    "\n",
    "- <img src=\"https://d2gd6pc034wcta.cloudfront.net/tier/8.svg\" width=\"15\" height=\"15\"/> 실버3\n",
    "\n",
    "| 시간제한 | 메모리제한 | 정답비율  |\n",
    "|:----:|:-----:|:-----:|\n",
    "|  1초  | 128MB | 34.7% |\n",
    "\n",
    "## 문제\n",
    "\n",
    "연세대학교 수강신청이 얼마 전부터 바뀌어, 마일리지 제도로 바뀌었다. 이 제도는 각각의 학생들에게 마일리지를 주어 듣고 싶은 과목에 마일리지를 과목당 1~36을 분배한다. 그리고 모두 분배가 끝이 나면 과목에 대해서 마일리지를 많이 투자한 순으로 그 과목의 수강인원만큼 신청되는 방식이다.\n",
    "\n",
    "성준이는 연세대학교 재학 중인 학생이다. 성준이는 저번 수강신청에서 실패하여 휴학을 했기 때문에 이번 수강신청만은 필사적으로 성공하려고 한다. 그래서 성준이는 학교 홈페이지를 뚫어버렸다.\n",
    "\n",
    "그 덕분에 다른 사람들이 신청한 마일리지를 볼 수 있게 되었다. 성준이는 주어진 마일리지로 최대한 많은 과목을 신청하고 싶어 한다. (내가 마일리지를 넣고 이후에 과목을 신청하는 사람은 없다) 마일리지는 한 과목에 1에서 36까지 넣을 수 있다.\n",
    "\n",
    "## input\n",
    "\n",
    "첫째 줄에는 과목 수 n (1 ≤ n ≤ 100)과 주어진 마일리지 m (1 ≤ m ≤ 100)이 주어진다. 각 과목마다 2줄의 입력이 주어지는데 첫째 줄에는 각 과목에 신청한 사람 수 Pi과 과목의 수강인원 Li이 주어지고 그 다음 줄에는 각 사람이 마일리지를 얼마나 넣었는지 주어진다. (1 ≤ Pi ≤100, 1 ≤ Li ≤ 100)\n",
    "\n",
    "(단 마일리지가 같다면 성준이에게 우선순위가 주어진다고 하자.)\n",
    "\n",
    "## output\n",
    "\n",
    "**주어진 마일리지로 최대로 들을 수 있는 과목 개수를 출력한다.**\n",
    "\n",
    "## think\n",
    "\n",
    "::::{div} sd-rounded-3 sd-border-2 sd-shadow-md sd-p-5 sd-m-5\n",
    "1. list에서 limit만큼만 하되 수강신청인원이 한정인원보다 적으면 최소의 마일리지(1)로 수강신청 가능하다.\n",
    "2. 만약 수강신청 인원이 꽉찼을 경우에는 한정인원 안에 있는 것 중 최소만큼 넣어주면 된다. 조건때문에 성준이가 동일 마일리지일 경우는 이긴다.\n",
    "3. 총 마일리지를 까면서 +1씩 해주면 결과가 나올 것이다.\n",
    ":::{div} sd-text-right sd-text-muted\n",
    "-- from su\n",
    ":::\n",
    "::::"
   ]
  },
  {
   "cell_type": "markdown",
   "metadata": {},
   "source": [
    "## python "
   ]
  },
  {
   "cell_type": "code",
   "execution_count": 6,
   "metadata": {},
   "outputs": [],
   "source": [
    "import sys, os\n",
    "\n",
    "problem_num = \"12018\"\n",
    "\n",
    "path = os.getcwd() + f\"\\\\txt\\\\{problem_num}\" + \".txt\"\n",
    "sys.stdin = open(path, \"r\")\n",
    "input = sys.stdin.readline"
   ]
  },
  {
   "cell_type": "code",
   "execution_count": 7,
   "metadata": {},
   "outputs": [
    {
     "name": "stdout",
     "output_type": "stream",
     "text": [
      "1\n"
     ]
    }
   ],
   "source": [
    "subject_num, mileage = map(int, input().split())\n",
    "need = []\n",
    "result = 0\n",
    "\n",
    "for i in range(subject_num):\n",
    "    enrolled, limit = map(int, input().split())\n",
    "    m = sorted(list(map(int, input().split())), reverse=True)[:limit]\n",
    "if len(m) < limit:\n",
    "    need.append(1)\n",
    "else:\n",
    "    need.append(m[-1])\n",
    "\n",
    "need.sort()\n",
    "\n",
    "for i in need:\n",
    "    if mileage >= i:\n",
    "        mileage -= i\n",
    "result += 1\n",
    "\n",
    "print(result)"
   ]
  },
  {
   "cell_type": "markdown",
   "metadata": {},
   "source": [
    "## JavaScript"
   ]
  },
  {
   "cell_type": "markdown",
   "metadata": {},
   "source": [
    "```{code-block} javascript\n",
    ":caption: node.js\n",
    ":lineno-start: 1\n",
    "\n",
    "const problem_num = \"12018\";\n",
    "const path = `${__dirname}\\\\txt\\\\${problem_num}.txt`;\n",
    "// const path = \"/dev/stdin\"; // for baekjoon\n",
    "\n",
    "const input = require(\"fs\").readFileSync(path, 'utf8').toString().trim().split('\\n');\n",
    "let currentLine = 0;\n",
    "\n",
    "//input setting\n",
    "function readLine() {\n",
    "    return input[currentLine++].split(' ').map(Number);\n",
    "}\n",
    "\n",
    "// mileage는 뒤에서 -= 해줘야하기 때문에 let으로 규정 subject_num은 한 번만 사용\n",
    "let [subject_num, mileage] = readLine();\n",
    "let need = [];\n",
    "let result = 0;\n",
    "\n",
    "for (let i = 0; i < subject_num; i++) {\n",
    "    const [enrolled, limit] = readLine();\n",
    "    const m = readLine().sort((a, b) => b - a).slice(0, limit);\n",
    "    if (m.length < limit) {\n",
    "        need.push(1);\n",
    "    } else {\n",
    "        need.push(m[m.length - 1])\n",
    "    }\n",
    "}\n",
    "\n",
    "need.sort((a, b) => a - b);\n",
    "for (let i = 0; i < need.length; i++) {\n",
    "    if (mileage >= need[i]) {\n",
    "        mileage -= need[i];\n",
    "        result++;\n",
    "    } else {\n",
    "        break;\n",
    "    }\n",
    "}\n",
    "console.log(result)\n",
    "```\n",
    "\n",
    "`readLine`을 함수화해서 한 줄씩 읽어가면서 코드가 진행된다. mileage는 변경되어야 하는 변수이기 때문에 let으로 만들어주고, sort((a,b) => b-a)는 역순으로 a-b는 오름차순으로 정렬된다. 코드 자체가 pythonic하긴 하지만 javascript스러움은 나중에 필요에 따라서 채우도록 하자. 지금은 이걸로 만족"
   ]
  },
  {
   "cell_type": "code",
   "execution_count": null,
   "metadata": {},
   "outputs": [],
   "source": []
  },
  {
   "cell_type": "markdown",
   "metadata": {},
   "source": [
    "## JAVA"
   ]
  },
  {
   "cell_type": "markdown",
   "metadata": {},
   "source": [
    "```{code-block} java\n",
    ":caption: java code\n",
    ":lineno-start: 1\n",
    "\n",
    "import java.io.*;\n",
    "import java.util.*;\n",
    "\n",
    "public class Main {\n",
    "    public static void main(String[] args) throws IOException {\n",
    "        BufferedReader br = new BufferedReader(new InputStreamReader(System.in));\n",
    "        StringTokenizer st = new StringTokenizer(br.readLine());\n",
    "        int subjectNum = Integer.parseInt(st.nextToken());\n",
    "        int mileage = Integer.parseInt(st.nextToken());\n",
    "        ArrayList<Integer> need = new ArrayList<>();\n",
    "\n",
    "        for (int i = 0; i < subjectNum; i++) {\n",
    "            st = new StringTokenizer(br.readLine());\n",
    "            int enrolled = Integer.parseInt(st.nextToken());\n",
    "            int limit = Integer.parseInt(st.nextToken());\n",
    "\n",
    "            ArrayList<Integer> m = new ArrayList<>();\n",
    "            st = new StringTokenizer(br.readLine());\n",
    "            while (st.hasMoreTokens()) {\n",
    "                m.add(Integer.parseInt(st.nextToken()));\n",
    "            }\n",
    "            Collections.sort(m, Collections.reverseOrder());\n",
    "            if (m.size() < limit) {\n",
    "                need.add(1);\n",
    "            } else {\n",
    "                need.add(m.get(limit - 1));\n",
    "            }\n",
    "        }\n",
    "        Collections.sort(need);\n",
    "        int result = 0;\n",
    "        for (int i : need) {\n",
    "            if (mileage >= i) {\n",
    "                mileage -= i;\n",
    "                result++;\n",
    "            }\n",
    "        }\n",
    "\n",
    "        System.out.println(result);\n",
    "    }\n",
    "}\n",
    "```\n",
    "\n",
    "자바는 input을 받는 과정이 엄청 별로다. 길이가 엄청 길어지고 잡설이 엄창나게 많은 것으로 보인다. "
   ]
  },
  {
   "cell_type": "markdown",
   "metadata": {},
   "source": [
    "```{raw} html\n",
    "<script\n",
    "   type=\"text/javascript\"\n",
    "   src=\"https://utteranc.es/client.js\"\n",
    "   async=\"async\"\n",
    "   repo=\"surdarla/surdarla.github.io\"\n",
    "   issue-term=\"pathname\"\n",
    "   theme=\"github-light\"\n",
    "   label=\"💬 comment\"\n",
    "   crossorigin=\"anonymous\"\n",
    "/>\n",
    "```"
   ]
  }
 ],
 "metadata": {
  "kernelspec": {
   "display_name": ".venv",
   "language": "python",
   "name": "python3"
  },
  "language_info": {
   "codemirror_mode": {
    "name": "ipython",
    "version": 3
   },
   "file_extension": ".py",
   "mimetype": "text/x-python",
   "name": "python",
   "nbconvert_exporter": "python",
   "pygments_lexer": "ipython3",
   "version": "3.11.4"
  }
 },
 "nbformat": 4,
 "nbformat_minor": 2
}
