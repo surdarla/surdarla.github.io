{
 "cells": [
  {
   "cell_type": "markdown",
   "metadata": {},
   "source": [
    "# 20207 : 달력\n",
    "\n",
    "```{article-info}\n",
    ":avatar: /images/logos/my_favi.png\n",
    ":avatar-alt: supposed to be surdarla logo\n",
    ":avatar-link: https://surdarla.github.io\n",
    ":avatar-outline: muted\n",
    ":author: Surdarla\n",
    ":date: Nov 23 Thu 13:42, 2023\n",
    ":read-time: \"{sub-ref}`wordcount-minutes` min read\"\n",
    ":class-container: sd-p-2 sd-outline-muted sd-rounded-1\n",
    "```\n",
    "\n",
    "- <img src=\"https://d2gd6pc034wcta.cloudfront.net/tier/11.svg\" width=\"15\" height=\"15\"/> 골드 5\n",
    "\n",
    "| 시간제한 | 메모리제한 | 정답비율 |\n",
    "|:----:|:-----:|:----:|\n",
    "|  1초  | 512MB | 42%  |\n",
    "\n",
    "## 문제\n",
    "\n",
    " 수현이는 일년의 날짜가 1일부터 365일로 표시되어있는 달력을 가지고있다. 수현이는 너무나도 계획적인 사람이라 올 해 일정을 모두 계획해서 달력에 표시해놨다. \n",
    "\n",
    "여름이 거의 끝나가자 장마가 시작되었고, 습기로 인해 달력에 표시한 일정이 지워지려고 한다. 지워지는 것을 막고자 수현이는 일정이 있는 곳에만 코팅지를 달력에 붙이려고 한다. 하지만 너무 귀찮았던 나머지, 다음과 같은 규칙을 따르기로 한다.\n",
    "\n",
    "- 연속된 두 일자에 각각 일정이 1개 이상 있다면 이를 일정이 연속되었다고 표현한다.\n",
    "- 연속된 모든 일정은 하나의 직사각형에 포함되어야 한다. \n",
    "- 연속된 일정을 모두 감싸는 가장 작은 직사각형의 크기만큼 코팅지를 오린다.\n",
    "\n",
    "달력은 다음과 같은 규칙을 따른다.\n",
    "\n",
    "- 일정은 시작날짜와 종료날짜를 포함한다.\n",
    "- 시작일이 가장 앞선 일정부터 차례대로 채워진다.\n",
    "- 시작일이 같을 경우 일정의 기간이 긴 것이 먼저 채워진다.\n",
    "- 일정은 가능한 최 상단에 배치된다.\n",
    "- 일정 하나의 세로의 길이는 1이다. \n",
    "- 하루의 폭은 1이다. \n",
    "\n",
    "::::{grid} \n",
    ":gutter: 3\n",
    ":class-container: full-width\n",
    "\n",
    ":::{grid-item-card} 우선 배열\n",
    "```{figure} https://upload.acmicpc.net/1a820e79-e5fc-4e4a-b7ad-efe42cfd7cdd/\n",
    "```\n",
    "^^^\n",
    "위의 그림에서와 같이 일정이 주어졌다고 하자. 여기서 코팅지의 면적은 아래의 파란색 영역과 같다.\n",
    ":::\n",
    "\n",
    ":::{grid-item}\n",
    ":columns: auto\n",
    ":chlid-align: center\n",
    "\n",
    "$\\to$\n",
    ":::\n",
    "\n",
    ":::{grid-item-card} 코팅지\n",
    "```{figure} https://upload.acmicpc.net/680c1b8a-7ae1-4b00-ba41-e1c61cd64846/\n",
    "```\n",
    "^^^\n",
    "이때 코팅지의 크기의 합은 $3 * 8 + 2 * 2 = 28$이다\n",
    ":::\n",
    "\n",
    "::::\n",
    "\n",
    "\n",
    "\n",
    "\n",
    "\n",
    "## input\n",
    "\n",
    "첫째 줄에 일정의 개수 N이 주어진다. (1 ≤ N ≤ 1000)\n",
    "\n",
    "둘째 줄부터 일정의 개수만큼 시작 날짜 S와 종료 날짜 E가 주어진다. (1 ≤ S ≤ E ≤ 365)\n",
    "\n",
    "## output\n",
    "\n",
    "**코팅지의 면적을 출력한다.**\n",
    "\n",
    "## think"
   ]
  },
  {
   "cell_type": "markdown",
   "metadata": {},
   "source": [
    "## python "
   ]
  },
  {
   "cell_type": "code",
   "execution_count": 1,
   "metadata": {},
   "outputs": [],
   "source": [
    "import sys, os\n",
    "\n",
    "problem_num = \"20207\"\n",
    "\n",
    "path = os.getcwd() + f\"\\\\txt\\\\{problem_num}\" + \".txt\"\n",
    "sys.stdin = open(path, \"r\")\n",
    "input = sys.stdin.readline"
   ]
  },
  {
   "cell_type": "code",
   "execution_count": null,
   "metadata": {},
   "outputs": [],
   "source": [
    "n = int(input())\n",
    "for _ in range(n):\n",
    "    s, e = map(int, input().split())"
   ]
  },
  {
   "cell_type": "markdown",
   "metadata": {},
   "source": [
    "```{raw} html\n",
    "<script\n",
    "   type=\"text/javascript\"\n",
    "   src=\"https://utteranc.es/client.js\"\n",
    "   async=\"async\"\n",
    "   repo=\"surdarla/surdarla.github.io\"\n",
    "   issue-term=\"pathname\"\n",
    "   theme=\"github-light\"\n",
    "   label=\"💬 comment\"\n",
    "   crossorigin=\"anonymous\"\n",
    "/>\n",
    "```"
   ]
  }
 ],
 "metadata": {
  "kernelspec": {
   "display_name": ".venv",
   "language": "python",
   "name": "python3"
  },
  "language_info": {
   "codemirror_mode": {
    "name": "ipython",
    "version": 3
   },
   "file_extension": ".py",
   "mimetype": "text/x-python",
   "name": "python",
   "nbconvert_exporter": "python",
   "pygments_lexer": "ipython3",
   "version": "3.11.4"
  }
 },
 "nbformat": 4,
 "nbformat_minor": 2
}
