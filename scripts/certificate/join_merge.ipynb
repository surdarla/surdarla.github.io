{
 "cells": [
  {
   "attachments": {},
   "cell_type": "markdown",
   "metadata": {},
   "source": [
    "# join과 merge\n",
    "\n",
    "join과 merge는 둘 다 Pandas에서 데이터프레임을 결합하는 작업을 수행하는 메서드입니다. 그러나 join과 merge는 약간 다른 동작을 수행합니다.\n",
    "\n",
    "join:\n",
    "\n",
    "- join은 인덱스를 기준으로 데이터프레임을 결합합니다.\n",
    "- 기본적으로 join은 왼쪽 데이터프레임과 오른쪽 데이터프레임의 인덱스를 비교하여 결합합니다.\n",
    "- join은 데이터프레임의 인덱스가 동일한 경우에만 작동합니다.\n",
    "- join은 내부 조인(Inner Join)을 수행합니다. 즉, 공통된 인덱스 값만을 가진 행을 반환합니다.\n",
    "\n",
    "merge:\n",
    "\n",
    "- merge는 특정 열(또는 여러 열)을 기준으로 데이터프레임을 결합합니다.\n",
    "- merge는 왼쪽 데이터프레임과 오른쪽 데이터프레임의 열을 비교하여 결합합니다.\n",
    "- merge는 데이터프레임의 인덱스가 동일하지 않아도 작동합니다.\n",
    "- merge는 다양한 조인 유형(Inner Join, Left Join, Right Join, Outer Join 등)을 지원합니다. 기본적으로는 내부 조인(Inner Join)을 수행하며, how 매개변수를 사용하여 다른 조인 유형을 지정할 수 있습니다.\n",
    "\n",
    "```{admonition}\n",
    "간단하게 말하면, join은 인덱스를 기준으로 데이터프레임을 결합하고, merge는 열을 기준으로 데이터프레임을 결합합니다. join은 인덱스가 동일한 경우에 사용하며, merge는 인덱스가 동일하지 않아도 사용할 수 있습니다. merge는 더 유연한 결합 방식을 제공하며, 다양한 조인 유형을 지원합니다.\n",
    "```"
   ]
  },
  {
   "cell_type": "code",
   "execution_count": 1,
   "metadata": {},
   "outputs": [],
   "source": [
    "import pandas as pd\n",
    "import sqlite3\n",
    "\n",
    "db_conn = sqlite3.connect(':memory:')\n",
    "'''\n",
    "in-memory database\n",
    "내부적으로 db서버를 만들지 않고 temp db를 사용하는 것과 같다.\n",
    "'''"
   ]
  },
  {
   "cell_type": "code",
   "execution_count": null,
   "metadata": {},
   "outputs": [],
   "source": [
    "frame_1 = pd.DataFrame([\n",
    "    { 'col1': 11, 'col2': 111, 'col3': 1111, },\n",
    "    { 'col1': 12, 'col2': 121, 'col3': 1211, },\n",
    "    { 'col1': 13, 'col2': 131, 'col3': 1311, },\n",
    "    { 'col1': 14, 'col2': 141, 'col3': 1411, },\n",
    "    { 'col1': 15, 'col2': 151, 'col3': 1511, },\n",
    "    { 'col1': 16, 'col2': 161, 'col3': 1611, },\n",
    "])\n",
    "frame_2 = pd.DataFrame"
   ]
  }
 ],
 "metadata": {
  "kernelspec": {
   "display_name": "Python 3",
   "language": "python",
   "name": "python3"
  },
  "language_info": {
   "codemirror_mode": {
    "name": "ipython",
    "version": 3
   },
   "file_extension": ".py",
   "mimetype": "text/x-python",
   "name": "python",
   "nbconvert_exporter": "python",
   "pygments_lexer": "ipython3",
   "version": "3.11.2"
  },
  "orig_nbformat": 4
 },
 "nbformat": 4,
 "nbformat_minor": 2
}
