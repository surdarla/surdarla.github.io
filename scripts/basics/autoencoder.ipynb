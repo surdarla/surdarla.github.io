{
 "cells": [
  {
   "cell_type": "markdown",
   "metadata": {},
   "source": [
    "# Autoencoder\n",
    "\n",
    "Dalle에 대해서 공부하다보면 VAE(variational autoencoder)라는 개념이 나오고, 이는 Dalle에서 꽤나 중요한 개념이다. 이미지와 텍스트 사이의 주요한 feature만 select하는 encoder를 거치고, 이를 통해서 텍스트만 넣어도 이미지를 뽑아낼 수 있도록 하는 것이 Dalle속에서 VAE의 역할과 개념이다. Input의 가장 중요한 부분만을 추출한다.. 이것은 일종의 차원 축소이고, feature selection이라고 볼 수도 있을 것이다.\n",
    "\n",
    "VAE라는 개념보다는 워낙 AE(autoencoder)의 기본에서 파생되는 AE들이 많기 때문에, 기본적인 개념부터 잡아놓고 가는 것이 중요할 것이라 생각된다."
   ]
  },
  {
   "cell_type": "code",
   "execution_count": 1,
   "metadata": {},
   "outputs": [],
   "source": [
    "import pandas\n",
    "import numpy"
   ]
  }
 ],
 "metadata": {
  "kernelspec": {
   "display_name": ".venv",
   "language": "python",
   "name": "python3"
  },
  "language_info": {
   "codemirror_mode": {
    "name": "ipython",
    "version": 3
   },
   "file_extension": ".py",
   "mimetype": "text/x-python",
   "name": "python",
   "nbconvert_exporter": "python",
   "pygments_lexer": "ipython3",
   "version": "3.11.4"
  },
  "orig_nbformat": 4
 },
 "nbformat": 4,
 "nbformat_minor": 2
}
