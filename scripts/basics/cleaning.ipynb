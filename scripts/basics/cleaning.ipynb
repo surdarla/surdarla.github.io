{
 "cells": [
  {
   "cell_type": "markdown",
   "metadata": {},
   "source": [
    "# 텍스트 전처리\n",
    "\n",
    "tokenizing 전에 반드시 필요한 부분이다. 결국 토큰을 잘 구분해내기 위해서는 특수문자나 접사 같은 부분들을 제거하거나 모델의 특성에 맞도록 전처리를 해주어야지 모델의 성능을 제대로 뽑아낼 수 있다."
   ]
  },
  {
   "cell_type": "code",
   "execution_count": null,
   "metadata": {},
   "outputs": [],
   "source": []
  }
 ],
 "metadata": {
  "language_info": {
   "name": "python"
  },
  "orig_nbformat": 4
 },
 "nbformat": 4,
 "nbformat_minor": 2
}
