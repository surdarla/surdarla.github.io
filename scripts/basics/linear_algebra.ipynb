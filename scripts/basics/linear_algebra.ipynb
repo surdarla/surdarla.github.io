{
 "cells": [
  {
   "attachments": {},
   "cell_type": "markdown",
   "metadata": {},
   "source": [
    "# Linear algebra summary"
   ]
  },
  {
   "attachments": {},
   "cell_type": "markdown",
   "metadata": {},
   "source": [
    "(linearity)=\n",
    "## linearity 선형성\n",
    "\n",
    "선형대수학, 선형회귀 등 여러 곳에서 선형성이란 말이 나오는데 제대로 이해하고 출발해보자.\n",
    "\n",
    "선형성이란 무엇일까? 어떤 선형 맵 또는 선형 함수 $f(x)$이 선형성을 가지고 있다라고 표현하기 위해서는 아래의 두 특성을 만족해야한다.\n",
    "\n",
    "1. 가산성 Additivity : $f(x+y) = f(x) + f(y)$ -> 연관관계가 없다는 의미로도 해석가능하다.\n",
    "2. 1차 동차성 Homogeneity : $f(ax) = af(x)$ -> 1차원적 순수 비례 관계, 2차 이상의 비례관계를 가지지 않는다.\n",
    "\n",
    "- 어떤 성질이 변하는데 1차원적이다. 어떤 신호에 기울기만 곱한 형태와 같다.\n",
    "- 원래는 1차함수는 원점을 지나는(y = ax+b 라면 b=0인 경우) 이어야 선형적이라고 하지만, 고정된 b일 경우 예측가능하기 때문에 선형적이라고 표현한다.\n",
    "- 초기값만으로 그 `변화가 쉽게 유추 가능`한 형태라는 의미가 담겨 있다.\n",
    "- `중첩의 원리`가 통하게 된다. 비선형 문제가 어려운 이유는 중첩의 원리가 통하지 않는 것이다.\n",
    "\n",
    "정리를 해보자면 선형성이라는 것은 1차 직선적이라는 의미로 이해하기 보다는 '예측가능한' 이라는 의미로 포괄적으로 이해하는 것이 옳을 것으로 보인다."
   ]
  },
  {
   "cell_type": "markdown",
   "metadata": {},
   "source": []
  }
 ],
 "metadata": {
  "language_info": {
   "name": "python"
  },
  "orig_nbformat": 4
 },
 "nbformat": 4,
 "nbformat_minor": 2
}
