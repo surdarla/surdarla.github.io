{
 "cells": [
  {
   "cell_type": "markdown",
   "metadata": {},
   "source": [
    "# 1436 : 영화감독 숌\n",
    "\n",
    "- 실버 V\n",
    "\n",
    "\n",
    "종말의 수는 어떤 수에 666이 적어도 3개 이상 연속으로 들어가는 수를 말한다. 제일 작은 종말의 수는 666이고, 그 다음 수느 1666,2666,3666,,,이런 수으로 진행된다.\n",
    "\n",
    "- n번째 종말의 수를 구하는 함수를 작성해라\n",
    "- n <= 10,000\n"
   ]
  },
  {
   "cell_type": "code",
   "execution_count": 20,
   "metadata": {},
   "outputs": [
    {
     "name": "stdout",
     "output_type": "stream",
     "text": [
      "앞 숫자: , '666': 666, 뒤 숫자: 2\n"
     ]
    }
   ],
   "source": [
    "number = \"6662\"\n",
    "\n",
    "# '666'을 찾기\n",
    "start = number.index(\"666\")\n",
    "\n",
    "# '666' 앞 숫자 추출\n",
    "front_of_666 = number[:start]\n",
    "\n",
    "# '666' 뒤 숫자 추출\n",
    "rear_of_666 = number[start + 3 :]\n",
    "\n",
    "# 출력\n",
    "print(f\"앞 숫자: {front_of_666}, '666': {666}, 뒤 숫자: {rear_of_666}\")"
   ]
  },
  {
   "cell_type": "code",
   "execution_count": 15,
   "metadata": {},
   "outputs": [],
   "source": [
    "def end_function(n: int) -> int:\n",
    "    '''\n",
    "    영화감독 숌 풀이\n",
    "    dynamic programming을 활용하기\n",
    "    우선 dp로 공간을 구현\n",
    "    n번 순회하면서 필요한 만큼만 계산하기\n",
    "    '''\n",
    "    dp = [[0] for i in range(1,n+1)]\n",
    "    for i in range(1,n+1):\n",
    "        if i == 1:\n",
    "            dp[i] = 666\n",
    "        else:\n",
    "            temp = str(dp[i-1])\n",
    "            \n",
    "            head,back = temp.split('666')\n",
    "        \n",
    "    print(dp)\n",
    "    return n"
   ]
  },
  {
   "cell_type": "code",
   "execution_count": 16,
   "metadata": {},
   "outputs": [
    {
     "name": "stdout",
     "output_type": "stream",
     "text": [
      "[[666], [0], [0]]\n"
     ]
    },
    {
     "data": {
      "text/plain": [
       "3"
      ]
     },
     "execution_count": 16,
     "metadata": {},
     "output_type": "execute_result"
    }
   ],
   "source": [
    "end_function(3)"
   ]
  },
  {
   "cell_type": "code",
   "execution_count": null,
   "metadata": {},
   "outputs": [],
   "source": []
  }
 ],
 "metadata": {
  "kernelspec": {
   "display_name": ".venv",
   "language": "python",
   "name": "python3"
  },
  "language_info": {
   "codemirror_mode": {
    "name": "ipython",
    "version": 3
   },
   "file_extension": ".py",
   "mimetype": "text/x-python",
   "name": "python",
   "nbconvert_exporter": "python",
   "pygments_lexer": "ipython3",
   "version": "3.11.4"
  }
 },
 "nbformat": 4,
 "nbformat_minor": 2
}
