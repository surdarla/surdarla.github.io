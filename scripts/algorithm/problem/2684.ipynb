{
 "cells": [
  {
   "cell_type": "markdown",
   "metadata": {},
   "source": [
    "# 2684. Maximum number of Moves in a grid\n",
    "\n",
    "```{article-info}\n",
    ":avatar: /images/logos/my_favi.png\n",
    ":avatar-alt: supposed to be surdarla logo\n",
    ":avatar-link: https://surdarla.github.io\n",
    ":avatar-outline: muted\n",
    ":author: Surdarla\n",
    ":date: Oct 30 Wed 17:05, 2024\n",
    ":read-time: \"{sub-ref}`wordcount-minutes` min read\"\n",
    ":class-container: sd-p-2 sd-outline-muted sd-rounded-1\n",
    "```\n",
    "\n",
    "## Problem\n",
    "\n",
    "You are given a 0-indexed `m x n matrix grid` consisting of positive integers.\n",
    "\n",
    "You can start at any cell in the first column of the matrix, and traverse the grid in the following way:\n",
    "\n",
    "From a cell (row, col), you can move to any of the cells: `(row - 1, col + 1)`, `(row, col + 1)` and `(row + 1, col + 1)` such that the value of the cell you move to, should be strictly bigger than the value of the current cell.\n",
    "Return the maximum number of moves that you can perform.\n",
    "\n",
    "Example 1:\n",
    "[](https://assets.leetcode.com/uploads/2023/04/11/yetgriddrawio-10.png)\n",
    "\n",
    "> Input: grid = [[2,4,3,5],[5,4,9,3],[3,4,2,11],[10,9,13,15]]\\\n",
    "> Output: 3\\\n",
    "> Explanation: We can start at the cell (0, 0) and make the following moves:\n",
    "> - (0, 0) -> (0, 1).\n",
    "> - (0, 1) -> (1, 2).\n",
    "> - (1, 2) -> (2, 3).\\\n",
    "> It can be shown that it is the maximum number of moves that can be made.\n",
    "\n",
    "Example 2:\n",
    "[](https://assets.leetcode.com/uploads/2023/04/12/yetgrid4drawio.png)\n",
    "\n",
    "> Input: grid = [[3,2,4],[2,1,9],[1,1,7]]\\\n",
    "> Output: 0\\\n",
    "> Explanation: Starting from any cell in the first column we cannot perform any moves.\n",
    "\n",
    "\n",
    "## Think"
   ]
  },
  {
   "cell_type": "code",
   "execution_count": 2,
   "metadata": {},
   "outputs": [],
   "source": [
    "grid = [[2, 4, 3, 5], [5, 4, 9, 3], [3, 4, 2, 11], [10, 9, 13, 15]]"
   ]
  },
  {
   "cell_type": "code",
   "execution_count": 4,
   "metadata": {},
   "outputs": [
    {
     "ename": "SyntaxError",
     "evalue": "incomplete input (2554728732.py, line 4)",
     "output_type": "error",
     "traceback": [
      "\u001b[1;36m  Cell \u001b[1;32mIn[4], line 4\u001b[1;36m\u001b[0m\n\u001b[1;33m    \u001b[0m\n\u001b[1;37m    ^\u001b[0m\n\u001b[1;31mSyntaxError\u001b[0m\u001b[1;31m:\u001b[0m incomplete input\n"
     ]
    }
   ],
   "source": [
    "from typing import List\n",
    "class Solution:\n",
    "    def maxMoves(self, grid: List[List[int]]) -> int:\n",
    "        "
   ]
  },
  {
   "cell_type": "code",
   "execution_count": 9,
   "metadata": {},
   "outputs": [
    {
     "name": "stdout",
     "output_type": "stream",
     "text": [
      "4 4\n"
     ]
    }
   ],
   "source": [
    "r, c = len(grid), len(grid[0])\n",
    "print(r, c)"
   ]
  },
  {
   "cell_type": "code",
   "execution_count": 14,
   "metadata": {},
   "outputs": [
    {
     "data": {
      "text/plain": [
       "array([[0., 0., 0., 0.],\n",
       "       [0., 0., 0., 0.],\n",
       "       [0., 0., 0., 0.],\n",
       "       [0., 0., 0., 0.]])"
      ]
     },
     "execution_count": 14,
     "metadata": {},
     "output_type": "execute_result"
    }
   ],
   "source": [
    "import numpy as np\n",
    "\n",
    "grid_ = np.array(grid)\n",
    "dp = np.zeros(grid_.shape)\n",
    "dp"
   ]
  },
  {
   "cell_type": "code",
   "execution_count": null,
   "metadata": {},
   "outputs": [],
   "source": [
    "for r in range(grid_.shape[0]):\n",
    "    for c in range(grid_.shape[1]):\n",
    "        if grid[r-1] and grid[r-1][c+1] > :\n",
    "            \n",
    "        if grid[r+1]:"
   ]
  },
  {
   "cell_type": "markdown",
   "metadata": {},
   "source": [
    "\n",
    "```{raw} html\n",
    "<script\n",
    "   type=\"text/javascript\"\n",
    "   src=\"https://utteranc.es/client.js\"\n",
    "   async=\"async\"\n",
    "   repo=\"surdarla/surdarla.github.io\"\n",
    "   issue-term=\"pathname\"\n",
    "   theme=\"github-light\"\n",
    "   label=\"💬 comment\"\n",
    "   crossorigin=\"anonymous\"\n",
    "/>\n",
    "```"
   ]
  },
  {
   "cell_type": "markdown",
   "metadata": {},
   "source": []
  }
 ],
 "metadata": {
  "kernelspec": {
   "display_name": "Python 3",
   "language": "python",
   "name": "python3"
  },
  "language_info": {
   "codemirror_mode": {
    "name": "ipython",
    "version": 3
   },
   "file_extension": ".py",
   "mimetype": "text/x-python",
   "name": "python",
   "nbconvert_exporter": "python",
   "pygments_lexer": "ipython3",
   "version": "3.12.4"
  }
 },
 "nbformat": 4,
 "nbformat_minor": 2
}
