{
 "cells": [
  {
   "cell_type": "markdown",
   "metadata": {},
   "source": [
    "# twoSum\n",
    "\n",
    "```{article-info}\n",
    ":avatar: /images/logos/my_favi.png\n",
    ":avatar-alt: supposed to be surdarla logo\n",
    ":avatar-link: https://surdarla.github.io\n",
    ":avatar-outline: muted\n",
    ":author: Surdarla\n",
    ":date: Dec 04 Mon 14:38, 2023\n",
    ":read-time: \"{sub-ref}`wordcount-minutes` min read\"\n",
    ":class-container: sd-p-2 sd-outline-muted sd-rounded-1\n",
    "```\n",
    "\n",
    "## 문제\n",
    "\n",
    "Given an array of integers nums and an integer target, return indices of the two numbers such that they add up to target.\n",
    "\n",
    "You may assume that each input would have exactly one solution, and you may not use the same element twice.\n",
    "\n",
    "You can return the answer in any order.\n",
    "\n",
    "### constraints\n",
    "\n",
    "- 2 <= nums.length <= 10^4\n",
    "- -10^9 <= nums\\[i\\] <= 10^9\n",
    "\n",
    "## think\n",
    "\n",
    "$O(n^2)$의 이중 for 문을 돌면은 brute force로 완전탐색을 하면서 풀 수 있긴 하다. 하지만 문제의 제한에서 nums 리스트의 크기가 매우 클 수 있다는 점과 하나의 요소의 크기도 매우 클 수 있다는 점이 존재하는 걸로 봐서는 좋은 풀이로는 보이지 않는다. O(n)의 시간복잡도로 줄이는 방법에 대한 고민이 필요하다.\n",
    "\n",
    "hash map에 대해서 생각해볼 필요가 있는 문제이다."
   ]
  },
  {
   "cell_type": "markdown",
   "metadata": {},
   "source": [
    "## python "
   ]
  },
  {
   "cell_type": "code",
   "execution_count": 1,
   "metadata": {},
   "outputs": [],
   "source": [
    "import sys, os\n",
    "\n",
    "problem_num = \"twoSum\"\n",
    "\n",
    "path = os.getcwd() + f\"\\\\txt\\\\{problem_num}\" + \".txt\"\n",
    "sys.stdin = open(path, \"r\")\n",
    "input = sys.stdin.readline"
   ]
  },
  {
   "cell_type": "code",
   "execution_count": 2,
   "metadata": {},
   "outputs": [],
   "source": [
    "nums = list(map(int, input().split()))\n",
    "target = int(input())\n",
    "\n",
    "from collections import deque\n",
    "from typing import List\n",
    "\n",
    "\n",
    "class Solution:\n",
    "    def twoSum(self, nums: List[int], target: int) -> List[int]:\n",
    "        result = []\n",
    "        popidx = 0\n",
    "        nums = deque(nums)\n",
    "        while nums:\n",
    "            start = nums.popleft()\n",
    "            popidx += 1\n",
    "            for idx, i in enumerate(nums):\n",
    "                if start + i == target:\n",
    "                    result = [popidx - 1, idx + popidx]\n",
    "                    break\n",
    "        return result"
   ]
  },
  {
   "cell_type": "code",
   "execution_count": 4,
   "metadata": {},
   "outputs": [
    {
     "data": {
      "text/plain": [
       "[0, 1]"
      ]
     },
     "execution_count": 4,
     "metadata": {},
     "output_type": "execute_result"
    }
   ],
   "source": [
    "answer = Solution().twoSum(nums, target)\n",
    "answer"
   ]
  },
  {
   "cell_type": "markdown",
   "metadata": {},
   "source": [
    "## javascript"
   ]
  },
  {
   "cell_type": "markdown",
   "metadata": {},
   "source": [
    "```{code-block} javascript\n",
    ":caption: nodejs code\n",
    ":lineno-start: 1\n",
    "\n",
    "/**\n",
    " * @param {number[]} nums\n",
    " * @param {number} target\n",
    " * @return {number[]}\n",
    " */\n",
    "\n",
    "var twoSum = function (nums, target) {\n",
    "    let popIndex = 0;\n",
    "    while (nums.length > 0) {\n",
    "        let start = nums.shift();\n",
    "        popIndex++;\n",
    "        for (let idx = 0; idx < nums.length; idx++) {\n",
    "            if (start + nums[idx] === target) {\n",
    "                result = [popIndex - 1, idx + popIndex];\n",
    "                break;\n",
    "            }\n",
    "        }\n",
    "    }\n",
    "    return result;\n",
    "};\n",
    "```"
   ]
  },
  {
   "cell_type": "markdown",
   "metadata": {},
   "source": [
    "## Java\n",
    "\n",
    "```{code-block} java\n",
    "class Solution {\n",
    "    public int[] twoSum(int[] nums, int target){\n",
    "        for (int i=0; i< nums.length;i++){\n",
    "            for (int j = i+1;j<nums.length;j++){\n",
    "                if (nums[j] == target-nums[i]){\n",
    "                    return new int[] {i,j};\n",
    "                }\n",
    "            }\n",
    "        }\n",
    "        return null;\n",
    "    }\n",
    "}\n",
    "```"
   ]
  },
  {
   "cell_type": "markdown",
   "metadata": {},
   "source": [
    "```{raw} html\n",
    "<script\n",
    "   type=\"text/javascript\"\n",
    "   src=\"https://utteranc.es/client.js\"\n",
    "   async=\"async\"\n",
    "   repo=\"surdarla/surdarla.github.io\"\n",
    "   issue-term=\"pathname\"\n",
    "   theme=\"github-light\"\n",
    "   label=\"💬 comment\"\n",
    "   crossorigin=\"anonymous\"\n",
    "/>\n",
    "```"
   ]
  }
 ],
 "metadata": {
  "kernelspec": {
   "display_name": ".venv",
   "language": "python",
   "name": "python3"
  },
  "language_info": {
   "codemirror_mode": {
    "name": "ipython",
    "version": 3
   },
   "file_extension": ".py",
   "mimetype": "text/x-python",
   "name": "python",
   "nbconvert_exporter": "python",
   "pygments_lexer": "ipython3",
   "version": "3.11.4"
  }
 },
 "nbformat": 4,
 "nbformat_minor": 2
}
