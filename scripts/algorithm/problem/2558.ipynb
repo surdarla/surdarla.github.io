{
 "cells": [
  {
   "cell_type": "markdown",
   "metadata": {},
   "source": [
    "# 2558 : A + B - 2\n",
    "\n",
    "- [백준 url](https://www.acmicpc.net/problem/2558)\n",
    "- 브론즈 5\n",
    "\n",
    "## input\n",
    "\n",
    "- 문제 : 두 정수 A와 B를 입력받은 다음, A+B를 출력하는 프로그램을 작성하시오.\n",
    "- 입력 : 첫째 줄에 A, 둘째 줄에 B가 주어진다. (0 < A, B < 10)\n",
    "- 출력 : 첫째 줄에 A+B를 출력한다.\n",
    "  "
   ]
  },
  {
   "cell_type": "code",
   "execution_count": 1,
   "metadata": {},
   "outputs": [
    {
     "name": "stdout",
     "output_type": "stream",
     "text": [
      "3\n"
     ]
    }
   ],
   "source": [
    "# input setting\n",
    "problem_num = 2558\n",
    "import os, sys\n",
    "path = os.getcwd() + f'\\\\txt\\\\{problem_num}'  + '.txt'\n",
    "sys.stdin = open(path,'r')\n",
    "input = list(map(int,sys.stdin.readlines()))\n",
    "\n",
    "# solving problem\n",
    "print(sum(input))"
   ]
  },
  {
   "cell_type": "markdown",
   "metadata": {},
   "source": [
    "이렇게 2558.txt와 2558.py가 있으면 input으로 바로 넣어주면 된다. 마구마구 실험이 가능하다.   \n",
    "근데 사실은 백준에서는 input()으로 들어오기 때문에 조금 다르긴하다.   \n",
    "input으로 처리하는 것과 read로 처리하는 것을 동시에 익숙해져버릇 해야할 것이다."
   ]
  }
 ],
 "metadata": {
  "kernelspec": {
   "display_name": ".venv",
   "language": "python",
   "name": "python3"
  },
  "language_info": {
   "codemirror_mode": {
    "name": "ipython",
    "version": 3
   },
   "file_extension": ".py",
   "mimetype": "text/x-python",
   "name": "python",
   "nbconvert_exporter": "python",
   "pygments_lexer": "ipython3",
   "version": "3.11.4"
  },
  "orig_nbformat": 4
 },
 "nbformat": 4,
 "nbformat_minor": 2
}
