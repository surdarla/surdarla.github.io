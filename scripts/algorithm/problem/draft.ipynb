{
 "cells": [
  {
   "cell_type": "markdown",
   "metadata": {},
   "source": [
    "# title\n",
    "\n",
    "insert info here\n",
    "\n",
    "- <img src=\"https://d2gd6pc034wcta.cloudfront.net/tier/7.svg\" width=\"15\" height=\"15\"/> 티어\n",
    "\n",
    "| 시간제한 | 메모리제한 | 정답비율 |\n",
    "|:----:|:-----:|:----:|\n",
    "|  초   |  MB   |  %   |\n",
    "\n",
    "## 문제\n",
    "\n",
    "## input\n",
    "\n",
    "## output\n",
    "\n",
    "## think"
   ]
  },
  {
   "cell_type": "markdown",
   "metadata": {},
   "source": [
    "## python "
   ]
  },
  {
   "cell_type": "code",
   "execution_count": null,
   "metadata": {},
   "outputs": [],
   "source": [
    "import sys, os\n",
    "\n",
    "problem_num = \"\"\n",
    "\n",
    "path = os.getcwd() + f\"\\\\txt\\\\{problem_num}\" + \".txt\"\n",
    "sys.stdin = open(path, \"r\")\n",
    "input = sys.stdin.readline"
   ]
  },
  {
   "cell_type": "markdown",
   "metadata": {},
   "source": [
    "## javascript"
   ]
  },
  {
   "cell_type": "code",
   "execution_count": null,
   "metadata": {},
   "outputs": [],
   "source": [
    "# js2py로 자바스크립트 코드 확인\n",
    "import js2py\n",
    "\n",
    "js_code = \"\"\"\n",
    "\"\"\"\n",
    "my_code = js2py.eval_js(js_code)\n",
    "my_code()"
   ]
  },
  {
   "cell_type": "markdown",
   "metadata": {},
   "source": [
    "```{raw} html\n",
    "<script\n",
    "   type=\"text/javascript\"\n",
    "   src=\"https://utteranc.es/client.js\"\n",
    "   async=\"async\"\n",
    "   repo=\"surdarla/surdarla.github.io\"\n",
    "   issue-term=\"pathname\"\n",
    "   theme=\"github-light\"\n",
    "   label=\"💬 comment\"\n",
    "   crossorigin=\"anonymous\"\n",
    "/>\n",
    "```"
   ]
  }
 ],
 "metadata": {
  "language_info": {
   "name": "python"
  }
 },
 "nbformat": 4,
 "nbformat_minor": 2
}
