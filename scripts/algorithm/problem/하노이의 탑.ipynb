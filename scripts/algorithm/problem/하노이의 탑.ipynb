{
 "cells": [
  {
   "cell_type": "markdown",
   "metadata": {},
   "source": [
    "https://shoark7.github.io/programming/algorithm/tower-of-hanoi"
   ]
  },
  {
   "cell_type": "markdown",
   "metadata": {},
   "source": [
    "# 하노이의 탑\n",
    "\n",
    "재귀, 브루트포스, 완전탐색, 백트래킹\n",
    "유명한 문제이기 때문에 잘 정리를 해놓는 것이 좋을 것으로 보인다.\n",
    "이거 다음에 백준에서 재귀연습문제 덩어리 풀어보기\n",
    "\n",
    "https://www.acmicpc.net/workbook/view/2052"
   ]
  },
  {
   "cell_type": "code",
   "execution_count": 6,
   "metadata": {},
   "outputs": [],
   "source": [
    "# input setting\n",
    "problem_num = \"하노이의 탑\"\n",
    "import os, sys\n",
    "\n",
    "path = os.getcwd() + f\"\\\\txt\\\\{problem_num}\" + \".txt\"\n",
    "sys.stdin = open(path, \"r\")\n",
    "\n",
    "n = int(sys.stdin.readline())"
   ]
  },
  {
   "cell_type": "code",
   "execution_count": 8,
   "metadata": {},
   "outputs": [],
   "source": [
    "result = []\n",
    "\n",
    "\n",
    "def move(n, start, to):\n",
    "    return [start, to]\n",
    "\n",
    "\n",
    "def hanoi(n, start, to, via):\n",
    "    if n == 1:\n",
    "        result.append(move(1, start, to))\n",
    "    else:\n",
    "        hanoi(n - 1, start, via, to)\n",
    "        result.append(move(n, start, to))\n",
    "        hanoi(n - 1, via, to, start)\n",
    "\n",
    "    return result\n",
    "\n",
    "\n",
    "def solution(n):\n",
    "    start, via, to = 1, 2, 3\n",
    "    answer = hanoi(n, start, via, to)\n",
    "\n",
    "    return answer"
   ]
  },
  {
   "cell_type": "code",
   "execution_count": 10,
   "metadata": {},
   "outputs": [
    {
     "data": {
      "text/plain": [
       "[[1, 2],\n",
       " [1, 3],\n",
       " [2, 3],\n",
       " [1, 2],\n",
       " [3, 1],\n",
       " [3, 2],\n",
       " [1, 2],\n",
       " [1, 3],\n",
       " [1, 2],\n",
       " [3, 2],\n",
       " [1, 3],\n",
       " [2, 1],\n",
       " [2, 3],\n",
       " [1, 3],\n",
       " [1, 2],\n",
       " [3, 2],\n",
       " [3, 1],\n",
       " [2, 1],\n",
       " [3, 2],\n",
       " [1, 3],\n",
       " [1, 2],\n",
       " [3, 2]]"
      ]
     },
     "execution_count": 10,
     "metadata": {},
     "output_type": "execute_result"
    }
   ],
   "source": [
    "solution(4)"
   ]
  },
  {
   "cell_type": "markdown",
   "metadata": {},
   "source": [
    "```{raw} html\n",
    "<script\n",
    "   type=\"text/javascript\"\n",
    "   src=\"https://utteranc.es/client.js\"\n",
    "   async=\"async\"\n",
    "   repo=\"surdarla/surdarla.github.io\"\n",
    "   issue-term=\"pathname\"\n",
    "   theme=\"github-light\"\n",
    "   label=\"💬 comment\"\n",
    "   crossorigin=\"anonymous\"\n",
    "/>\n",
    "```"
   ]
  }
 ],
 "metadata": {
  "kernelspec": {
   "display_name": ".venv",
   "language": "python",
   "name": "python3"
  },
  "language_info": {
   "codemirror_mode": {
    "name": "ipython",
    "version": 3
   },
   "file_extension": ".py",
   "mimetype": "text/x-python",
   "name": "python",
   "nbconvert_exporter": "python",
   "pygments_lexer": "ipython3",
   "version": "3.11.4"
  },
  "orig_nbformat": 4
 },
 "nbformat": 4,
 "nbformat_minor": 2
}
