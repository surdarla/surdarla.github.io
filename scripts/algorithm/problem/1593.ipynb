{
 "cells": [
  {
   "cell_type": "markdown",
   "metadata": {},
   "source": [
    "# 1593. Split a String Into the Max Number of Unique Substrings\n",
    "\n",
    "## Problem\n",
    "\n",
    "Given a string s, return the maximum number of unique substrings that the given string can be split into.\n",
    "\n",
    "You can split string s into any list of non-empty substrings, where the concatenation of the substrings forms the original string. \n",
    "\n",
    "However, you must split the substrings such that all of them are unique.\n",
    "\n",
    "A substring is a contiguous sequence of characters within a string.\n",
    "\n",
    "**Example 1:**\n",
    "> Input: s = \"ababccc\"\\\n",
    "> Output: 5\\\n",
    "> Explanation: One way to split maximally is ['a', 'b', 'ab', 'c', 'cc']. Splitting like ['a', 'b', 'a', 'b', 'c', 'cc'] is not valid as you have 'a' and 'b' multiple times.\n",
    "\n",
    "**Example 2:**\n",
    "> Input: s = \"aba\"\\\n",
    "> Output: 2\\\n",
    "> Explanation: One way to split maximally is ['a', 'ba'].\n",
    "\n",
    "**Example 3:**\n",
    "> Input: s = \"aa\"\\\n",
    "> Output: 1\\\n",
    "> Explanation: It is impossible to split the string any further.\n",
    "\n",
    "**Contraints:**\n",
    "- 1 <= s.length <= 16\n",
    "- s contains only lower case English letters.\n"
   ]
  },
  {
   "cell_type": "markdown",
   "metadata": {},
   "source": [
    "## think\n",
    "\n",
    "1. 우선은 기본적으로 드는 생각은 절반씩 자르는 것?\n",
    "2. 16이 최고 길이니깐\n",
    "3. 근데 그렇게 되면 중간 중간에 중복되는 문자열이 생길 수 있음\n",
    "4. len(s)부터 시작해서 재귀적으로 가야할 것으로 보임 `Recursive`\n",
    "5. ababccc를 살펴보면\n",
    "   1. ababccc $\\to$ a, babccc\n",
    "   2. a, babccc $\\to$ a, b, abccc\n",
    "   3. a, b, abccc $\\to$ a, b, ab, ccc\n",
    "   4. a, b, ab, ccc $\\to$ a, b, ab, c, cc\n",
    "6. 이런식으로 하되, 저장은 hashset으로 해서 중복되면 새로운 것으로 묶는 방식으로 앞에서 부터 탐색을 해야할 것으로 보임\n",
    "\n"
   ]
  },
  {
   "cell_type": "code",
   "execution_count": 35,
   "metadata": {},
   "outputs": [],
   "source": [
    "problem_num = 1593\n",
    "import os, sys\n",
    "import logging\n",
    "import traceback\n",
    "\n",
    "def get_logger() -> logging.Logger:\n",
    "    logging.basicConfig(\n",
    "        format=\"%(asctime)s %(levelname)s %(message)s\",\n",
    "        level=logging.INFO,\n",
    "    )\n",
    "    logger = logging.getLogger()\n",
    "    return logger\n",
    "\n",
    "global logger\n",
    "logger = get_logger()\n",
    "\n",
    "def sol(problem_num, func):\n",
    "    path = os.getcwd() + f\"\\\\txt\\\\{problem_num}\" + \".txt\"\n",
    "    logger.info(f\"file path : {path}\")\n",
    "    \n",
    "    sys.stdin = open(path, \"r\")\n",
    "    while True:\n",
    "        line = sys.stdin.readline()\n",
    "        #logger.info(f\"this line : {line.strip().split()}\")\n",
    "        if not line:\n",
    "            logger.info(\"end of file\")\n",
    "            break\n",
    "        try:\n",
    "            inp, oup = line.strip().split()\n",
    "            if not func(inp):\n",
    "                raise ValueError(f\"wrong output in line : {line}\")\n",
    "            logger.info(f\"{int(oup) == func(inp)}\")\n",
    "            logger.info(\"=================================\")\n",
    "        except Exception as e:\n",
    "            logger.error(f\"Error occurred while processing line: {line}\")\n",
    "            logger.error(f\"Exception: {e}\")\n",
    "            logger.error(traceback.format_exc())\n",
    "    \n",
    "    logger.info(\"all done\")"
   ]
  },
  {
   "cell_type": "code",
   "execution_count": 51,
   "metadata": {},
   "outputs": [],
   "source": [
    "class Solution:\n",
    "    def maxUniqueSplit(self, s: str) -> int:\n",
    "        sett = set()\n",
    "        def dfs(s):\n",
    "            if not s:\n",
    "                return 0\n",
    "            res = 0\n",
    "            for i in range(1, len(s)+1):\n",
    "                if s[:i] not in sett:\n",
    "                    sett.add(s[:i])\n",
    "                    res = max(res, 1+dfs(s[i:]))\n",
    "                    sett.remove(s[:i])\n",
    "            return res\n",
    "        return dfs(s)"
   ]
  },
  {
   "cell_type": "code",
   "execution_count": 52,
   "metadata": {},
   "outputs": [
    {
     "name": "stderr",
     "output_type": "stream",
     "text": [
      "2024-10-21 15:39:07,939 INFO file path : c:\\Users\\WAI\\Documents\\Code\\surdarla.github.io\\scripts\\algorithm\\problem\\txt\\1593.txt\n",
      "2024-10-21 15:39:07,942 INFO True\n",
      "2024-10-21 15:39:07,943 INFO =================================\n",
      "2024-10-21 15:39:07,945 INFO True\n",
      "2024-10-21 15:39:07,946 INFO =================================\n",
      "2024-10-21 15:39:07,947 INFO True\n",
      "2024-10-21 15:39:07,948 INFO =================================\n",
      "2024-10-21 15:39:07,948 INFO end of file\n",
      "2024-10-21 15:39:07,949 INFO all done\n"
     ]
    }
   ],
   "source": [
    "sol(problem_num, Solution().maxUniqueSplit)"
   ]
  },
  {
   "cell_type": "markdown",
   "metadata": {},
   "source": [
    "## Backtracking, Dfs\n",
    "\n",
    "이 문제는 dfs로 접근해서 푸는 문제였다. 생각을 달리해야한다. "
   ]
  },
  {
   "cell_type": "code",
   "execution_count": null,
   "metadata": {},
   "outputs": [],
   "source": []
  },
  {
   "cell_type": "markdown",
   "metadata": {},
   "source": [
    "\n",
    "```{raw} html\n",
    "<script\n",
    "   type=\"text/javascript\"\n",
    "   src=\"https://utteranc.es/client.js\"\n",
    "   async=\"async\"\n",
    "   repo=\"surdarla/surdarla.github.io\"\n",
    "   issue-term=\"pathname\"\n",
    "   theme=\"github-light\"\n",
    "   label=\"💬 comment\"\n",
    "   crossorigin=\"anonymous\"\n",
    "/>\n",
    "```"
   ]
  },
  {
   "cell_type": "markdown",
   "metadata": {},
   "source": []
  }
 ],
 "metadata": {
  "kernelspec": {
   "display_name": "Python 3",
   "language": "python",
   "name": "python3"
  },
  "language_info": {
   "codemirror_mode": {
    "name": "ipython",
    "version": 3
   },
   "file_extension": ".py",
   "mimetype": "text/x-python",
   "name": "python",
   "nbconvert_exporter": "python",
   "pygments_lexer": "ipython3",
   "version": "3.12.4"
  }
 },
 "nbformat": 4,
 "nbformat_minor": 2
}
