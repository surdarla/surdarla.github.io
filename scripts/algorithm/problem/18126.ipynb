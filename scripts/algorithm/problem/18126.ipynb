{
 "cells": [
  {
   "cell_type": "markdown",
   "metadata": {},
   "source": [
    "# 18126 : 너구리 구구\n",
    "\n",
    "- <img src=\"https://d2gd6pc034wcta.cloudfront.net/tier/9.svg\" width=\"15\" height=\"15\"/> 실버 2\n",
    "\n",
    "| 시간제한 | 메모리제한 | 정답비율 |\n",
    "| :------: | :--------: | :------: |\n",
    "|   1초    |   1024MB    | 36.464% |"
   ]
  },
  {
   "cell_type": "markdown",
   "metadata": {},
   "source": [
    "## 문제\n",
    "\n",
    "텔레토비 동산에 사는 너구리 구구는 입구, 거실, 주방, 안방, 공부방, 운동실, 음악실, 음식 창고 등 N개의 방을 가지고 있다. 입구를 포함한 모든 방은 1부터 N까지의 번호가 있고, 입구는 1번이다.  구구의 집으로 들어가는 입구는 한 개이며 입구과 모든 방들은 총 N-1개의 길로 서로 오고 갈 수 있다.\n",
    "\n",
    "구구는 스머프 동산에서 멜론아 아이스크림을 발견했다. 구구는 무더운 여름 햇살을 피해 최대한 입구에서 먼 방에 아이스크림을 숨기려고 한다.\n",
    "\n",
    "구구가 집 입구에서 멜론아 아이스크림을 숨기려고 하는 방까지 이동하는 거리를 구하여라.\n",
    "\n",
    "## input\n",
    "\n",
    "1<= N <= 5000\n",
    "\n",
    "n-1개의 줄에 구구의 집의 모든 길의 정보가 abc로 주어진다.\n",
    "\n",
    "**a번 방과 b번 방 사이를 양방향으로 연결하는 길의 길이가 c임을 의미한다.**\n",
    "\n",
    "## output\n",
    "\n",
    "구구가 집 입구에서 멜론아 아이스크림을 숨기려고 하는 방까지 이동하는 거리를 구하여라.\n",
    "\n"
   ]
  },
  {
   "cell_type": "markdown",
   "metadata": {},
   "source": [
    "## think\n",
    "\n",
    "node 두 개를 주고 그 노드사이의 거리를 준다. 이를 활용해서 출발점에서 제일 먼 node에 도달하는 거리를 구하는 문제이다. 생각나는 것은 [bfs](bfs) max를 활용하면 될 것으로 보인다. "
   ]
  },
  {
   "cell_type": "markdown",
   "metadata": {},
   "source": [
    "## python "
   ]
  },
  {
   "cell_type": "code",
   "execution_count": 1,
   "metadata": {},
   "outputs": [],
   "source": [
    "import sys, os\n",
    "\n",
    "problem_num = \"18126\"\n",
    "\n",
    "path = os.getcwd() + f\"\\\\txt\\\\{problem_num}\" + \".txt\"\n",
    "sys.stdin = open(path, \"r\")\n",
    "input = sys.stdin.readline"
   ]
  },
  {
   "cell_type": "code",
   "execution_count": null,
   "metadata": {},
   "outputs": [],
   "source": [
    "n = int(input())\n",
    "for i in range(n-1):\n",
    "    start, end, cost = map(int, input().split())\n",
    "    "
   ]
  },
  {
   "cell_type": "code",
   "execution_count": null,
   "metadata": {},
   "outputs": [],
   "source": [
    "def dfs(graph, start_node):\n",
    "    visit = ()\n",
    "    stack = ()\n",
    "    stack.append(start_node)\n",
    "    \n",
    "    while stack:\n",
    "        node = stack.pop()\n",
    "        if node not in visit:\n",
    "            visit.append(node)\n",
    "            stack.extend(graph[node])"
   ]
  },
  {
   "cell_type": "markdown",
   "metadata": {},
   "source": [
    "```{raw} html\n",
    "<script\n",
    "   type=\"text/javascript\"\n",
    "   src=\"https://utteranc.es/client.js\"\n",
    "   async=\"async\"\n",
    "   repo=\"surdarla/surdarla.github.io\"\n",
    "   issue-term=\"pathname\"\n",
    "   theme=\"github-light\"\n",
    "   label=\"💬 comment\"\n",
    "   crossorigin=\"anonymous\"\n",
    "/>\n",
    "```"
   ]
  }
 ],
 "metadata": {
  "kernelspec": {
   "display_name": ".venv",
   "language": "python",
   "name": "python3"
  },
  "language_info": {
   "codemirror_mode": {
    "name": "ipython",
    "version": 3
   },
   "file_extension": ".py",
   "mimetype": "text/x-python",
   "name": "python",
   "nbconvert_exporter": "python",
   "pygments_lexer": "ipython3",
   "version": "3.11.4"
  }
 },
 "nbformat": 4,
 "nbformat_minor": 2
}
