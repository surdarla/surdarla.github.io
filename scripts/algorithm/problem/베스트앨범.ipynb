{
 "cells": [
  {
   "cell_type": "markdown",
   "metadata": {},
   "source": [
    "# 베스트앨범\n",
    "\n",
    "programmers\n",
    "\n",
    "hash level 3\n",
    "\n",
    "1. 장르별 최다 재생 노래 2개씩\n",
    "2. 순서 조건은 장르 - 장르내 재생 - 고유번호 순"
   ]
  },
  {
   "cell_type": "code",
   "execution_count": 132,
   "metadata": {},
   "outputs": [],
   "source": [
    "# input setting\n",
    "problem_num = \"베스트앨범\"\n",
    "import os, sys\n",
    "\n",
    "path = os.getcwd() + f\"\\\\txt\\\\{problem_num}\" + \".txt\"\n",
    "with open(path) as f:\n",
    "    inputs = [line.split() for line in f.read().splitlines()]\n",
    "    genres, plays = inputs[0], inputs[1]\n",
    "    plays = list(map(int, plays))"
   ]
  },
  {
   "cell_type": "code",
   "execution_count": 133,
   "metadata": {},
   "outputs": [
    {
     "data": {
      "text/plain": [
       "(['classic', 'pop', 'classic', 'classic', 'pop', 'hiphop'],\n",
       " [500, 600, 150, 800, 2500, 100])"
      ]
     },
     "execution_count": 133,
     "metadata": {},
     "output_type": "execute_result"
    }
   ],
   "source": [
    "genres, plays"
   ]
  },
  {
   "cell_type": "code",
   "execution_count": 136,
   "metadata": {},
   "outputs": [],
   "source": [
    "def solution(genres, plays):\n",
    "    answer = []\n",
    "    total = {}\n",
    "    for i, (g, p) in enumerate(zip(genres, plays)):\n",
    "        if g not in total.keys():\n",
    "            total[g] = [[], 0]  # [[index, num], sum]\n",
    "        total[g][0].append((i, p))\n",
    "        total[g][1] += p\n",
    "\n",
    "    # sort by count for each index\n",
    "    total_sorted = dict(sorted(total.items(), key=lambda x: x[1][1], reverse=True))\n",
    "    for k, v in total_sorted.items():\n",
    "        total_sorted[k][0] = sorted(v[0], key=lambda x: x[1], reverse=True)\n",
    "\n",
    "    for k, v in total_sorted.items():\n",
    "        if len(v[0]) == 1:\n",
    "            answer.append(v[0][0][0])\n",
    "        else:\n",
    "            for i in range(2):\n",
    "                answer.append(v[0][i][0])\n",
    "    print(total_sorted)\n",
    "    return answer"
   ]
  },
  {
   "cell_type": "code",
   "execution_count": 137,
   "metadata": {},
   "outputs": [
    {
     "name": "stdout",
     "output_type": "stream",
     "text": [
      "{'pop': [[(4, 2500), (1, 600)], 3100], 'classic': [[(3, 800), (0, 500), (2, 150)], 1450], 'hiphop': [[(5, 100)], 100]}\n"
     ]
    },
    {
     "data": {
      "text/plain": [
       "[4, 1, 3, 0, 5]"
      ]
     },
     "execution_count": 137,
     "metadata": {},
     "output_type": "execute_result"
    }
   ],
   "source": [
    "a = solution(genres, plays)\n",
    "a"
   ]
  },
  {
   "cell_type": "code",
   "execution_count": null,
   "metadata": {},
   "outputs": [],
   "source": []
  }
 ],
 "metadata": {
  "kernelspec": {
   "display_name": ".venv",
   "language": "python",
   "name": "python3"
  },
  "language_info": {
   "codemirror_mode": {
    "name": "ipython",
    "version": 3
   },
   "file_extension": ".py",
   "mimetype": "text/x-python",
   "name": "python",
   "nbconvert_exporter": "python",
   "pygments_lexer": "ipython3",
   "version": "3.11.4"
  }
 },
 "nbformat": 4,
 "nbformat_minor": 2
}
