{
 "cells": [
  {
   "cell_type": "markdown",
   "metadata": {},
   "source": [
    "# 1916 : 최소비용 구하기\n",
    "\n",
    "|시간제한|메모리제한|정답 비율|\n",
    "|:-:|:-:|:-:|\n",
    "|0.5|128MB|32.289%|\n",
    "\n",
    "N개의 도시가 있다. 그리고 한 도시에서 출발하여 다른 도시에 도착하는 M개의 버스가 있다. \\\n",
    "우리는 A번째 도시에서 B번째 도시까지 가는데 드는 버스 비용을 최소화 시키려고 한다.\\\n",
    " A번째 도시에서 B번째 도시까지 가는데 드는 최소비용을 출력하여라. 도시의 번호는 1부터 N까지이다.\n",
    "\n",
    "## input\n",
    "\n",
    "첫째 줄에 도시의 개수 N(1 ≤ N ≤ 1,000)이 주어지고 \\\n",
    "둘째 줄에는 버스의 개수 M(1 ≤ M ≤ 100,000)이 주어진다. \\\n",
    "그리고 셋째 줄부터 M+2줄까지 다음과 같은 버스의 정보가 주어진다. \\\n",
    "먼저 처음에는 그 버스의 출발 도시의 번호가 주어진다. \\\n",
    "그리고 그 다음에는 도착지의 도시 번호가 주어지고 또 그 버스 비용이 주어진다. \n",
    "\n",
    "버스 비용은 0보다 크거나 같고, 100,000보다 작은 정수이다.\n",
    "\n",
    "그리고 M+3째 줄에는 우리가 구하고자 하는 구간 출발점의 도시번호와 도착점의 도시번호가 주어진다. 출발점에서 도착점을 갈 수 있는 경우만 입력으로 주어진다.\n",
    "\n",
    "## output\n",
    "\n",
    "첫째 줄에 출발 도시에서 도착 도시까지 가는데 드는 최소 비용을 출력한다."
   ]
  },
  {
   "cell_type": "code",
   "execution_count": 1,
   "metadata": {},
   "outputs": [],
   "source": [
    "# input setting\n",
    "problem_num = 1916\n",
    "import os, sys\n",
    "path = os.getcwd() + f'\\\\txt\\\\{problem_num}'  + '.txt'\n",
    "sys.stdin = open(path,'r')\n",
    "\n",
    "n = int(sys.stdin.readline())\n",
    "m = int(sys.stdin.readline())\n",
    "bus_info = []\n",
    "for _ in range(m):\n",
    "    bus_info.append(list(map(int,sys.stdin.readline().strip().split())))\n",
    "start,end = map(int,sys.stdin.readline().split())"
   ]
  },
  {
   "cell_type": "markdown",
   "metadata": {},
   "source": [
    "```{raw} html\n",
    "<script\n",
    "   type=\"text/javascript\"\n",
    "   src=\"https://utteranc.es/client.js\"\n",
    "   async=\"async\"\n",
    "   repo=\"surdarla/surdarla.github.io\"\n",
    "   issue-term=\"pathname\"\n",
    "   theme=\"github-light\"\n",
    "   label=\"💬 comment\"\n",
    "   crossorigin=\"anonymous\"\n",
    "/>\n",
    "```"
   ]
  },
  {
   "cell_type": "code",
   "execution_count": null,
   "metadata": {},
   "outputs": [],
   "source": []
  }
 ],
 "metadata": {
  "kernelspec": {
   "display_name": ".venv",
   "language": "python",
   "name": "python3"
  },
  "language_info": {
   "codemirror_mode": {
    "name": "ipython",
    "version": 3
   },
   "file_extension": ".py",
   "mimetype": "text/x-python",
   "name": "python",
   "nbconvert_exporter": "python",
   "pygments_lexer": "ipython3",
   "version": "3.11.4"
  },
  "orig_nbformat": 4
 },
 "nbformat": 4,
 "nbformat_minor": 2
}
