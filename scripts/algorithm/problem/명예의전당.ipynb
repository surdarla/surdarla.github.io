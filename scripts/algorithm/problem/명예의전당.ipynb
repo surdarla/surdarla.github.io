{
 "cells": [
  {
   "cell_type": "markdown",
   "metadata": {},
   "source": [
    "# 명예의 전당(1)\n",
    "\n",
    "프로그래머스   \n",
    "우선순위 queue / Heapq\n",
    "\n",
    "## 문제설명\n",
    "\n",
    "문제 설명\n",
    "\"명예의 전당\"이라는 TV 프로그램에서는 매일 1명의 가수가 노래를 부르고, 시청자들의 문자 투표수로 가수에게 점수를 부여합니다. 매일 출연한 가수의 점수가 지금까지 출연 가수들의 점수 중 상위 k번째 이내이면 해당 가수의 점수를 명예의 전당이라는 목록에 올려 기념합니다. 즉 프로그램 시작 이후 초기에 k일까지는 모든 출연 가수의 점수가 명예의 전당에 오르게 됩니다. k일 다음부터는 출연 가수의 점수가 기존의 명예의 전당 목록의 k번째 순위의 가수 점수보다 더 높으면, 출연 가수의 점수가 명예의 전당에 오르게 되고 기존의 k번째 순위의 점수는 명예의 전당에서 내려오게 됩니다.\n",
    "\n",
    "이 프로그램에서는 매일 \"명예의 전당\"의 최하위 점수를 발표합니다. 예를 들어, k = 3이고, 7일 동안 진행된 가수의 점수가 [10, 100, 20, 150, 1, 100, 200]이라면, 명예의 전당에서 발표된 점수는 아래의 그림과 같이 [10, 10, 10, 20, 20, 100, 100]입니다.\n",
    "\n",
    "```{figure} https://grepp-programmers.s3.ap-northeast-2.amazonaws.com/files/production/b0893853-7471-47c0-b7e5-1e8b46002810/%EA%B7%B8%EB%A6%BC1.png\n",
    "```\n",
    "\n",
    "명예의 전당 목록의 점수의 개수 k, 1일부터 마지막 날까지 출연한 가수들의 점수인 score가 주어졌을 때, 매일 발표된 명예의 전당의 최하위 점수를 return하는 solution 함수를 완성해주세요.\n",
    "\n",
    "## 제한사항\n",
    "\n",
    "- 3 ≤ k ≤ 100\n",
    "- 7 ≤ score의 길이 ≤ 1,000\n",
    "- 0 ≤ score[i] ≤ 2,000"
   ]
  },
  {
   "cell_type": "code",
   "execution_count": 10,
   "metadata": {},
   "outputs": [
    {
     "name": "stdout",
     "output_type": "stream",
     "text": [
      "3 [10, 100, 20, 150, 1, 100, 200]\n"
     ]
    }
   ],
   "source": [
    "# input setting\n",
    "problem_num = '명예의전당'\n",
    "\n",
    "import os, sys\n",
    "path = os.getcwd() + f'\\\\txt\\\\{problem_num}'  + '.txt'\n",
    "sys.stdin = open(path,'r')\n",
    "k = int(sys.stdin.readline())\n",
    "score = list(map(int,sys.stdin.readline().split(' ')))\n",
    "print(k,score)"
   ]
  },
  {
   "cell_type": "code",
   "execution_count": 11,
   "metadata": {},
   "outputs": [
    {
     "data": {
      "text/plain": [
       "[10, 10, 10, 20, 20, 100, 100]"
      ]
     },
     "execution_count": 11,
     "metadata": {},
     "output_type": "execute_result"
    }
   ],
   "source": [
    "import heapq\n",
    "def solution(k, score):\n",
    "    result = []\n",
    "    hq = []\n",
    "    for s in score:\n",
    "        heapq.heappush(hq,s)\n",
    "        result.append(heapq.nlargest(k,hq)[-1])\n",
    "    return result\n",
    "\n",
    "solution(k,score)"
   ]
  },
  {
   "cell_type": "markdown",
   "metadata": {},
   "source": [
    "## Heapq,우선순위 Queue\n",
    "\n",
    "우선순위 큐는 각 원소가 우선순위를 가지고 있는 큐를 말한다. 큐에서 원소를 꺼낼 때 가장 높은 우선순위를 가진 우너소부터 순서대로 추출된다. \n",
    "\n",
    "### Queue : FIFO\n",
    "\n",
    "큐는 기본적으로 한쪽 끝에서만 삽입이 이루어지고, 다른 한쪽에서는 삭제 연산만 이루어지는 유한 순서 리스트를 말한다. 선입선출, 즉 먼저 들어온 것이 먼저 나가는 형식이다. 제일 처음 들어온 데이터가 먼저 삭제된다. 기본적인 큐는 이렇듯 들어온 순서가 우선순위를 기본적으로 가지지만, 위에서의 큐는 우선순위를 들어온 순서에만 규제하지 않고 다르게 지정해버릴 수 있다.\n",
    "\n",
    "큐는 데이터를 빼내는 dequeue를 사용하면 맨 앞에 있던 값이 빠져나가면서 front가 한칸씩 뒤로 밀려나게 되면서 큐의 가용범위가 줄어들면서 큐의 재사용 또한 불가능하게 되는 문제가 존재한다."
   ]
  }
 ],
 "metadata": {
  "kernelspec": {
   "display_name": ".venv",
   "language": "python",
   "name": "python3"
  },
  "language_info": {
   "codemirror_mode": {
    "name": "ipython",
    "version": 3
   },
   "file_extension": ".py",
   "mimetype": "text/x-python",
   "name": "python",
   "nbconvert_exporter": "python",
   "pygments_lexer": "ipython3",
   "version": "3.11.4"
  },
  "orig_nbformat": 4
 },
 "nbformat": 4,
 "nbformat_minor": 2
}
